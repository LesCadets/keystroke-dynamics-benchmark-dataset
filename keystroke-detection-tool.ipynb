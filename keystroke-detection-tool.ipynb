{
 "cells": [
  {
   "cell_type": "code",
   "execution_count": 136,
   "id": "initial_id",
   "metadata": {
    "collapsed": true,
    "ExecuteTime": {
     "end_time": "2024-01-01T15:18:39.574726900Z",
     "start_time": "2024-01-01T15:18:39.552986200Z"
    }
   },
   "outputs": [],
   "source": [
    "import pandas as pd\n",
    "import numpy as np"
   ]
  },
  {
   "cell_type": "markdown",
   "source": [
    "# Data Loading and Preprocessing"
   ],
   "metadata": {
    "collapsed": false
   },
   "id": "9125055ef893b840"
  },
  {
   "cell_type": "code",
   "execution_count": 152,
   "outputs": [
    {
     "data": {
      "text/plain": "subject            s002s002s002s002s002s002s002s002s002s002s002s0...\nsessionIndex                                                   91800\nrep                                                           520200\nH.period                                                   1904.9262\nDD.period.t                                                5388.6217\nUD.period.t                                                3483.6955\nH.t                                                         1748.833\nDD.t.i                                                     3449.3299\nUD.t.i                                                     1700.4969\nH.i                                                        1663.9357\nDD.i.e                                                     3251.1835\nUD.i.e                                                     1587.2478\nH.e                                                        1818.4228\nDD.e.five                                                  7699.6484\nUD.e.five                                                  5881.2256\nH.five                                                     1568.8358\nDD.five.Shift.r                                             8953.287\nUD.five.Shift.r                                            7384.4512\nH.Shift.r                                                   1957.124\nDD.Shift.r.o                                               5118.7958\nUD.Shift.r.o                                               3161.6718\nH.o                                                        1802.4212\nDD.o.a                                                      3201.387\nUD.o.a                                                     1398.9658\nH.a                                                        2167.6893\nDD.a.n                                                     3073.6688\nUD.a.n                                                      905.9795\nH.n                                                        1833.9453\nDD.n.l                                                     4133.6574\nUD.n.l                                                     2299.7121\nH.l                                                        1950.0101\nDD.l.Return                                                6565.6859\nUD.l.Return                                                4615.6758\nH.Return                                                   1801.4464\ndtype: object"
     },
     "execution_count": 152,
     "metadata": {},
     "output_type": "execute_result"
    }
   ],
   "source": [
    "df = pd.read_csv('data/DSL-StrongPasswordData.csv')\n",
    "df.sum()"
   ],
   "metadata": {
    "collapsed": false,
    "ExecuteTime": {
     "end_time": "2024-01-01T15:25:27.212638200Z",
     "start_time": "2024-01-01T15:25:27.011748300Z"
    }
   },
   "id": "ca9e47dad0f15c92"
  },
  {
   "cell_type": "code",
   "execution_count": 153,
   "outputs": [
    {
     "data": {
      "text/plain": "  subject  sessionIndex  rep  H.period  DD.period.t  UD.period.t     H.t  \\\n0    s002             1    1    0.1491       0.3979       0.2488  0.1069   \n1    s002             1    2    0.1111       0.3451       0.2340  0.0694   \n2    s002             1    3    0.1328       0.2072       0.0744  0.0731   \n3    s002             1    4    0.1291       0.2515       0.1224  0.1059   \n4    s002             1    5    0.1249       0.2317       0.1068  0.0895   \n\n   DD.t.i  UD.t.i     H.i  ...     H.a  DD.a.n  UD.a.n     H.n  DD.n.l  \\\n0  0.1674  0.0605  0.1169  ...  0.1349  0.1484  0.0135  0.0932  0.3515   \n1  0.1283  0.0589  0.0908  ...  0.1412  0.2558  0.1146  0.1146  0.2642   \n2  0.1291  0.0560  0.0821  ...  0.1621  0.2332  0.0711  0.1172  0.2705   \n3  0.2495  0.1436  0.1040  ...  0.1457  0.1629  0.0172  0.0866  0.2341   \n4  0.1676  0.0781  0.0903  ...  0.1312  0.1582  0.0270  0.0884  0.2517   \n\n   UD.n.l     H.l  DD.l.Return  UD.l.Return  H.Return  \n0  0.2583  0.1338       0.3509       0.2171    0.0742  \n1  0.1496  0.0839       0.2756       0.1917    0.0747  \n2  0.1533  0.1085       0.2847       0.1762    0.0945  \n3  0.1475  0.0845       0.3232       0.2387    0.0813  \n4  0.1633  0.0903       0.2517       0.1614    0.0818  \n\n[5 rows x 34 columns]",
      "text/html": "<div>\n<style scoped>\n    .dataframe tbody tr th:only-of-type {\n        vertical-align: middle;\n    }\n\n    .dataframe tbody tr th {\n        vertical-align: top;\n    }\n\n    .dataframe thead th {\n        text-align: right;\n    }\n</style>\n<table border=\"1\" class=\"dataframe\">\n  <thead>\n    <tr style=\"text-align: right;\">\n      <th></th>\n      <th>subject</th>\n      <th>sessionIndex</th>\n      <th>rep</th>\n      <th>H.period</th>\n      <th>DD.period.t</th>\n      <th>UD.period.t</th>\n      <th>H.t</th>\n      <th>DD.t.i</th>\n      <th>UD.t.i</th>\n      <th>H.i</th>\n      <th>...</th>\n      <th>H.a</th>\n      <th>DD.a.n</th>\n      <th>UD.a.n</th>\n      <th>H.n</th>\n      <th>DD.n.l</th>\n      <th>UD.n.l</th>\n      <th>H.l</th>\n      <th>DD.l.Return</th>\n      <th>UD.l.Return</th>\n      <th>H.Return</th>\n    </tr>\n  </thead>\n  <tbody>\n    <tr>\n      <th>0</th>\n      <td>s002</td>\n      <td>1</td>\n      <td>1</td>\n      <td>0.1491</td>\n      <td>0.3979</td>\n      <td>0.2488</td>\n      <td>0.1069</td>\n      <td>0.1674</td>\n      <td>0.0605</td>\n      <td>0.1169</td>\n      <td>...</td>\n      <td>0.1349</td>\n      <td>0.1484</td>\n      <td>0.0135</td>\n      <td>0.0932</td>\n      <td>0.3515</td>\n      <td>0.2583</td>\n      <td>0.1338</td>\n      <td>0.3509</td>\n      <td>0.2171</td>\n      <td>0.0742</td>\n    </tr>\n    <tr>\n      <th>1</th>\n      <td>s002</td>\n      <td>1</td>\n      <td>2</td>\n      <td>0.1111</td>\n      <td>0.3451</td>\n      <td>0.2340</td>\n      <td>0.0694</td>\n      <td>0.1283</td>\n      <td>0.0589</td>\n      <td>0.0908</td>\n      <td>...</td>\n      <td>0.1412</td>\n      <td>0.2558</td>\n      <td>0.1146</td>\n      <td>0.1146</td>\n      <td>0.2642</td>\n      <td>0.1496</td>\n      <td>0.0839</td>\n      <td>0.2756</td>\n      <td>0.1917</td>\n      <td>0.0747</td>\n    </tr>\n    <tr>\n      <th>2</th>\n      <td>s002</td>\n      <td>1</td>\n      <td>3</td>\n      <td>0.1328</td>\n      <td>0.2072</td>\n      <td>0.0744</td>\n      <td>0.0731</td>\n      <td>0.1291</td>\n      <td>0.0560</td>\n      <td>0.0821</td>\n      <td>...</td>\n      <td>0.1621</td>\n      <td>0.2332</td>\n      <td>0.0711</td>\n      <td>0.1172</td>\n      <td>0.2705</td>\n      <td>0.1533</td>\n      <td>0.1085</td>\n      <td>0.2847</td>\n      <td>0.1762</td>\n      <td>0.0945</td>\n    </tr>\n    <tr>\n      <th>3</th>\n      <td>s002</td>\n      <td>1</td>\n      <td>4</td>\n      <td>0.1291</td>\n      <td>0.2515</td>\n      <td>0.1224</td>\n      <td>0.1059</td>\n      <td>0.2495</td>\n      <td>0.1436</td>\n      <td>0.1040</td>\n      <td>...</td>\n      <td>0.1457</td>\n      <td>0.1629</td>\n      <td>0.0172</td>\n      <td>0.0866</td>\n      <td>0.2341</td>\n      <td>0.1475</td>\n      <td>0.0845</td>\n      <td>0.3232</td>\n      <td>0.2387</td>\n      <td>0.0813</td>\n    </tr>\n    <tr>\n      <th>4</th>\n      <td>s002</td>\n      <td>1</td>\n      <td>5</td>\n      <td>0.1249</td>\n      <td>0.2317</td>\n      <td>0.1068</td>\n      <td>0.0895</td>\n      <td>0.1676</td>\n      <td>0.0781</td>\n      <td>0.0903</td>\n      <td>...</td>\n      <td>0.1312</td>\n      <td>0.1582</td>\n      <td>0.0270</td>\n      <td>0.0884</td>\n      <td>0.2517</td>\n      <td>0.1633</td>\n      <td>0.0903</td>\n      <td>0.2517</td>\n      <td>0.1614</td>\n      <td>0.0818</td>\n    </tr>\n  </tbody>\n</table>\n<p>5 rows × 34 columns</p>\n</div>"
     },
     "execution_count": 153,
     "metadata": {},
     "output_type": "execute_result"
    }
   ],
   "source": [
    "df.head()"
   ],
   "metadata": {
    "collapsed": false,
    "ExecuteTime": {
     "end_time": "2024-01-01T15:25:27.552198400Z",
     "start_time": "2024-01-01T15:25:27.328915800Z"
    }
   },
   "id": "5d6f7650cf34d407"
  },
  {
   "cell_type": "markdown",
   "source": [
    "Anomaly detection per user (not general): it will allow us to make a specific profile over keystroke"
   ],
   "metadata": {
    "collapsed": false
   },
   "id": "e4475e9147719335"
  },
  {
   "cell_type": "code",
   "execution_count": 154,
   "outputs": [
    {
     "data": {
      "text/plain": "  subject  H.period  DD.period.t  UD.period.t     H.t  DD.t.i  UD.t.i     H.i  \\\n0    s002    0.1491       0.3979       0.2488  0.1069  0.1674  0.0605  0.1169   \n1    s002    0.1111       0.3451       0.2340  0.0694  0.1283  0.0589  0.0908   \n2    s002    0.1328       0.2072       0.0744  0.0731  0.1291  0.0560  0.0821   \n3    s002    0.1291       0.2515       0.1224  0.1059  0.2495  0.1436  0.1040   \n4    s002    0.1249       0.2317       0.1068  0.0895  0.1676  0.0781  0.0903   \n\n   DD.i.e  UD.i.e  ...     H.a  DD.a.n  UD.a.n     H.n  DD.n.l  UD.n.l  \\\n0  0.2212  0.1043  ...  0.1349  0.1484  0.0135  0.0932  0.3515  0.2583   \n1  0.1357  0.0449  ...  0.1412  0.2558  0.1146  0.1146  0.2642  0.1496   \n2  0.1542  0.0721  ...  0.1621  0.2332  0.0711  0.1172  0.2705  0.1533   \n3  0.2038  0.0998  ...  0.1457  0.1629  0.0172  0.0866  0.2341  0.1475   \n4  0.1589  0.0686  ...  0.1312  0.1582  0.0270  0.0884  0.2517  0.1633   \n\n      H.l  DD.l.Return  UD.l.Return  H.Return  \n0  0.1338       0.3509       0.2171    0.0742  \n1  0.0839       0.2756       0.1917    0.0747  \n2  0.1085       0.2847       0.1762    0.0945  \n3  0.0845       0.3232       0.2387    0.0813  \n4  0.0903       0.2517       0.1614    0.0818  \n\n[5 rows x 32 columns]",
      "text/html": "<div>\n<style scoped>\n    .dataframe tbody tr th:only-of-type {\n        vertical-align: middle;\n    }\n\n    .dataframe tbody tr th {\n        vertical-align: top;\n    }\n\n    .dataframe thead th {\n        text-align: right;\n    }\n</style>\n<table border=\"1\" class=\"dataframe\">\n  <thead>\n    <tr style=\"text-align: right;\">\n      <th></th>\n      <th>subject</th>\n      <th>H.period</th>\n      <th>DD.period.t</th>\n      <th>UD.period.t</th>\n      <th>H.t</th>\n      <th>DD.t.i</th>\n      <th>UD.t.i</th>\n      <th>H.i</th>\n      <th>DD.i.e</th>\n      <th>UD.i.e</th>\n      <th>...</th>\n      <th>H.a</th>\n      <th>DD.a.n</th>\n      <th>UD.a.n</th>\n      <th>H.n</th>\n      <th>DD.n.l</th>\n      <th>UD.n.l</th>\n      <th>H.l</th>\n      <th>DD.l.Return</th>\n      <th>UD.l.Return</th>\n      <th>H.Return</th>\n    </tr>\n  </thead>\n  <tbody>\n    <tr>\n      <th>0</th>\n      <td>s002</td>\n      <td>0.1491</td>\n      <td>0.3979</td>\n      <td>0.2488</td>\n      <td>0.1069</td>\n      <td>0.1674</td>\n      <td>0.0605</td>\n      <td>0.1169</td>\n      <td>0.2212</td>\n      <td>0.1043</td>\n      <td>...</td>\n      <td>0.1349</td>\n      <td>0.1484</td>\n      <td>0.0135</td>\n      <td>0.0932</td>\n      <td>0.3515</td>\n      <td>0.2583</td>\n      <td>0.1338</td>\n      <td>0.3509</td>\n      <td>0.2171</td>\n      <td>0.0742</td>\n    </tr>\n    <tr>\n      <th>1</th>\n      <td>s002</td>\n      <td>0.1111</td>\n      <td>0.3451</td>\n      <td>0.2340</td>\n      <td>0.0694</td>\n      <td>0.1283</td>\n      <td>0.0589</td>\n      <td>0.0908</td>\n      <td>0.1357</td>\n      <td>0.0449</td>\n      <td>...</td>\n      <td>0.1412</td>\n      <td>0.2558</td>\n      <td>0.1146</td>\n      <td>0.1146</td>\n      <td>0.2642</td>\n      <td>0.1496</td>\n      <td>0.0839</td>\n      <td>0.2756</td>\n      <td>0.1917</td>\n      <td>0.0747</td>\n    </tr>\n    <tr>\n      <th>2</th>\n      <td>s002</td>\n      <td>0.1328</td>\n      <td>0.2072</td>\n      <td>0.0744</td>\n      <td>0.0731</td>\n      <td>0.1291</td>\n      <td>0.0560</td>\n      <td>0.0821</td>\n      <td>0.1542</td>\n      <td>0.0721</td>\n      <td>...</td>\n      <td>0.1621</td>\n      <td>0.2332</td>\n      <td>0.0711</td>\n      <td>0.1172</td>\n      <td>0.2705</td>\n      <td>0.1533</td>\n      <td>0.1085</td>\n      <td>0.2847</td>\n      <td>0.1762</td>\n      <td>0.0945</td>\n    </tr>\n    <tr>\n      <th>3</th>\n      <td>s002</td>\n      <td>0.1291</td>\n      <td>0.2515</td>\n      <td>0.1224</td>\n      <td>0.1059</td>\n      <td>0.2495</td>\n      <td>0.1436</td>\n      <td>0.1040</td>\n      <td>0.2038</td>\n      <td>0.0998</td>\n      <td>...</td>\n      <td>0.1457</td>\n      <td>0.1629</td>\n      <td>0.0172</td>\n      <td>0.0866</td>\n      <td>0.2341</td>\n      <td>0.1475</td>\n      <td>0.0845</td>\n      <td>0.3232</td>\n      <td>0.2387</td>\n      <td>0.0813</td>\n    </tr>\n    <tr>\n      <th>4</th>\n      <td>s002</td>\n      <td>0.1249</td>\n      <td>0.2317</td>\n      <td>0.1068</td>\n      <td>0.0895</td>\n      <td>0.1676</td>\n      <td>0.0781</td>\n      <td>0.0903</td>\n      <td>0.1589</td>\n      <td>0.0686</td>\n      <td>...</td>\n      <td>0.1312</td>\n      <td>0.1582</td>\n      <td>0.0270</td>\n      <td>0.0884</td>\n      <td>0.2517</td>\n      <td>0.1633</td>\n      <td>0.0903</td>\n      <td>0.2517</td>\n      <td>0.1614</td>\n      <td>0.0818</td>\n    </tr>\n  </tbody>\n</table>\n<p>5 rows × 32 columns</p>\n</div>"
     },
     "execution_count": 154,
     "metadata": {},
     "output_type": "execute_result"
    }
   ],
   "source": [
    "drop_cols = ['sessionIndex', 'rep']\n",
    "df = df.drop(drop_cols, axis=1)\n",
    "df.head()"
   ],
   "metadata": {
    "collapsed": false,
    "ExecuteTime": {
     "end_time": "2024-01-01T15:25:28.497845500Z",
     "start_time": "2024-01-01T15:25:28.310103100Z"
    }
   },
   "id": "f6b65a00a94c1be4"
  },
  {
   "cell_type": "code",
   "execution_count": 155,
   "outputs": [
    {
     "data": {
      "text/plain": "(20400, 51)"
     },
     "execution_count": 155,
     "metadata": {},
     "output_type": "execute_result"
    }
   ],
   "source": [
    "import sklearn.preprocessing as preprocessing\n",
    "\n",
    "enc = preprocessing.OneHotEncoder()\n",
    "enc.fit(df[['subject']])\n",
    "onehotlabels = enc.transform(df[['subject']]).toarray()\n",
    "onehotlabels.shape"
   ],
   "metadata": {
    "collapsed": false,
    "ExecuteTime": {
     "end_time": "2024-01-01T15:25:29.050837100Z",
     "start_time": "2024-01-01T15:25:28.960238Z"
    }
   },
   "id": "fbd07200a80462b4"
  },
  {
   "cell_type": "code",
   "execution_count": 156,
   "outputs": [],
   "source": [
    "# replace subjects names with one hot encoding in the single column \"subject\"\n",
    "from sklearn.preprocessing import OneHotEncoder\n",
    "from sklearn.compose import ColumnTransformer\n",
    "\n",
    "ct=ColumnTransformer(transformers=[('encoder',OneHotEncoder(),[0])],remainder='passthrough')\n",
    "unique_cols=df['subject'].nunique()\n",
    "\n",
    "data=np.array(ct.fit_transform(df))"
   ],
   "metadata": {
    "collapsed": false,
    "ExecuteTime": {
     "end_time": "2024-01-01T15:25:30.654938200Z",
     "start_time": "2024-01-01T15:25:30.592726100Z"
    }
   },
   "id": "4ed3892ee0cc7028"
  },
  {
   "cell_type": "code",
   "execution_count": 158,
   "outputs": [
    {
     "data": {
      "text/plain": "array([[1.    , 0.    , 0.    , 0.    , 0.    , 0.    , 0.    , 0.    ,\n        0.    , 0.    , 0.    , 0.    , 0.    , 0.    , 0.    , 0.    ,\n        0.    , 0.    , 0.    , 0.    , 0.    , 0.    , 0.    , 0.    ,\n        0.    , 0.    , 0.    , 0.    , 0.    , 0.    , 0.    , 0.    ,\n        0.    , 0.    , 0.    , 0.    , 0.    , 0.    , 0.    , 0.    ,\n        0.    , 0.    , 0.    , 0.    , 0.    , 0.    , 0.    , 0.    ,\n        0.    , 0.    , 0.    , 0.1491, 0.3979, 0.2488, 0.1069, 0.1674,\n        0.0605, 0.1169, 0.2212, 0.1043, 0.1417, 1.1885, 1.0468, 0.1146,\n        1.6055, 1.4909, 0.1067, 0.759 , 0.6523, 0.1016, 0.2136, 0.112 ,\n        0.1349, 0.1484, 0.0135, 0.0932, 0.3515, 0.2583, 0.1338, 0.3509,\n        0.2171, 0.0742],\n       [1.    , 0.    , 0.    , 0.    , 0.    , 0.    , 0.    , 0.    ,\n        0.    , 0.    , 0.    , 0.    , 0.    , 0.    , 0.    , 0.    ,\n        0.    , 0.    , 0.    , 0.    , 0.    , 0.    , 0.    , 0.    ,\n        0.    , 0.    , 0.    , 0.    , 0.    , 0.    , 0.    , 0.    ,\n        0.    , 0.    , 0.    , 0.    , 0.    , 0.    , 0.    , 0.    ,\n        0.    , 0.    , 0.    , 0.    , 0.    , 0.    , 0.    , 0.    ,\n        0.    , 0.    , 0.    , 0.1111, 0.3451, 0.234 , 0.0694, 0.1283,\n        0.0589, 0.0908, 0.1357, 0.0449, 0.0829, 1.197 , 1.1141, 0.0689,\n        0.7822, 0.7133, 0.157 , 0.7877, 0.6307, 0.1066, 0.1684, 0.0618,\n        0.1412, 0.2558, 0.1146, 0.1146, 0.2642, 0.1496, 0.0839, 0.2756,\n        0.1917, 0.0747],\n       [1.    , 0.    , 0.    , 0.    , 0.    , 0.    , 0.    , 0.    ,\n        0.    , 0.    , 0.    , 0.    , 0.    , 0.    , 0.    , 0.    ,\n        0.    , 0.    , 0.    , 0.    , 0.    , 0.    , 0.    , 0.    ,\n        0.    , 0.    , 0.    , 0.    , 0.    , 0.    , 0.    , 0.    ,\n        0.    , 0.    , 0.    , 0.    , 0.    , 0.    , 0.    , 0.    ,\n        0.    , 0.    , 0.    , 0.    , 0.    , 0.    , 0.    , 0.    ,\n        0.    , 0.    , 0.    , 0.1328, 0.2072, 0.0744, 0.0731, 0.1291,\n        0.056 , 0.0821, 0.1542, 0.0721, 0.0808, 1.0408, 0.96  , 0.0892,\n        0.6203, 0.5311, 0.1454, 0.7195, 0.5741, 0.1365, 0.2931, 0.1566,\n        0.1621, 0.2332, 0.0711, 0.1172, 0.2705, 0.1533, 0.1085, 0.2847,\n        0.1762, 0.0945],\n       [1.    , 0.    , 0.    , 0.    , 0.    , 0.    , 0.    , 0.    ,\n        0.    , 0.    , 0.    , 0.    , 0.    , 0.    , 0.    , 0.    ,\n        0.    , 0.    , 0.    , 0.    , 0.    , 0.    , 0.    , 0.    ,\n        0.    , 0.    , 0.    , 0.    , 0.    , 0.    , 0.    , 0.    ,\n        0.    , 0.    , 0.    , 0.    , 0.    , 0.    , 0.    , 0.    ,\n        0.    , 0.    , 0.    , 0.    , 0.    , 0.    , 0.    , 0.    ,\n        0.    , 0.    , 0.    , 0.1291, 0.2515, 0.1224, 0.1059, 0.2495,\n        0.1436, 0.104 , 0.2038, 0.0998, 0.09  , 1.0556, 0.9656, 0.0913,\n        1.2564, 1.1651, 0.1454, 0.755 , 0.6096, 0.0956, 0.153 , 0.0574,\n        0.1457, 0.1629, 0.0172, 0.0866, 0.2341, 0.1475, 0.0845, 0.3232,\n        0.2387, 0.0813],\n       [1.    , 0.    , 0.    , 0.    , 0.    , 0.    , 0.    , 0.    ,\n        0.    , 0.    , 0.    , 0.    , 0.    , 0.    , 0.    , 0.    ,\n        0.    , 0.    , 0.    , 0.    , 0.    , 0.    , 0.    , 0.    ,\n        0.    , 0.    , 0.    , 0.    , 0.    , 0.    , 0.    , 0.    ,\n        0.    , 0.    , 0.    , 0.    , 0.    , 0.    , 0.    , 0.    ,\n        0.    , 0.    , 0.    , 0.    , 0.    , 0.    , 0.    , 0.    ,\n        0.    , 0.    , 0.    , 0.1249, 0.2317, 0.1068, 0.0895, 0.1676,\n        0.0781, 0.0903, 0.1589, 0.0686, 0.0805, 0.8629, 0.7824, 0.0742,\n        0.8955, 0.8213, 0.1243, 0.7632, 0.6389, 0.043 , 0.1975, 0.1545,\n        0.1312, 0.1582, 0.027 , 0.0884, 0.2517, 0.1633, 0.0903, 0.2517,\n        0.1614, 0.0818]])"
     },
     "execution_count": 158,
     "metadata": {},
     "output_type": "execute_result"
    }
   ],
   "source": [
    "data[:5]"
   ],
   "metadata": {
    "collapsed": false,
    "ExecuteTime": {
     "end_time": "2024-01-01T15:26:16.062602400Z",
     "start_time": "2024-01-01T15:26:16.015339100Z"
    }
   },
   "id": "95a88c88a2ded202"
  },
  {
   "cell_type": "code",
   "execution_count": 159,
   "outputs": [
    {
     "name": "stdout",
     "output_type": "stream",
     "text": [
      "(20400, 51)\n"
     ]
    }
   ],
   "source": [
    "X=data[:,unique_cols:]\n",
    "y=data[:,:unique_cols]\n",
    "print(y.shape)"
   ],
   "metadata": {
    "collapsed": false,
    "ExecuteTime": {
     "end_time": "2024-01-01T15:26:24.258338800Z",
     "start_time": "2024-01-01T15:26:24.213913Z"
    }
   },
   "id": "1492a3995050ed23"
  },
  {
   "cell_type": "markdown",
   "source": [
    "Data splitting"
   ],
   "metadata": {
    "collapsed": false
   },
   "id": "f70035e544550da9"
  },
  {
   "cell_type": "code",
   "execution_count": 163,
   "outputs": [
    {
     "name": "stdout",
     "output_type": "stream",
     "text": [
      "X_train shape: (16320, 31)\n",
      "X_test shape: (4080, 31)\n",
      "y_train shape: (16320, 51)\n",
      "y_test shape: (4080, 51)\n",
      "[[ 0.0515  0.1755  0.124   0.032   0.0471  0.0151  0.0254  0.3914  0.366\n",
      "   0.0665  0.5834  0.5169  0.0404  0.3648  0.3244  0.0541  0.217   0.1629\n",
      "   0.0547  0.1279  0.0732  0.0591  0.0602  0.0011  0.0462  0.1528  0.1066\n",
      "   0.0599  0.1704  0.1105  0.0547]\n",
      " [ 0.1309  0.4092  0.2783  0.0945  0.1122  0.0177  0.1349  0.1338 -0.0011\n",
      "   0.0843  0.6247  0.5404  0.071   0.3906  0.3196  0.1307  0.2212  0.0905\n",
      "   0.0953  0.116   0.0207  0.1241  0.1598  0.0357  0.0892  0.1528  0.0636\n",
      "   0.095   0.2073  0.1123  0.0961]\n",
      " [ 0.0679  0.1718  0.1039  0.0856  0.0787 -0.0069  0.0914  0.0167 -0.0747\n",
      "   0.0813  0.1869  0.1056  0.076   0.2118  0.1358  0.0837  0.1231  0.0394\n",
      "   0.076   0.1152  0.0392  0.1038  0.0117 -0.0921  0.0781  0.0932  0.0151\n",
      "   0.0805  0.1804  0.0999  0.0478]\n",
      " [ 0.0963  0.1825  0.0862  0.0657  0.1037  0.038   0.0824  0.0768 -0.0056\n",
      "   0.0689  0.1496  0.0807  0.0786  0.363   0.2844  0.0921  0.2013  0.1092\n",
      "   0.0839  0.1062  0.0223  0.0863  0.1713  0.085   0.0533  0.4871  0.4338\n",
      "   0.0955  0.2259  0.1304  0.0567]\n",
      " [ 0.1354  0.153   0.0176  0.089   0.1877  0.0987  0.056   0.8398  0.7838\n",
      "   0.0927  0.4856  0.3929  0.0684  0.4659  0.3975  0.107   0.2527  0.1457\n",
      "   0.1045  0.1249  0.0204  0.1272  0.1882  0.061   0.1397  0.0219 -0.1178\n",
      "   0.1571  0.3404  0.1833  0.0818]]\n",
      "[[0. 0. 0. 0. 0. 0. 0. 0. 0. 0. 0. 0. 1. 0. 0. 0. 0. 0. 0. 0. 0. 0. 0. 0.\n",
      "  0. 0. 0. 0. 0. 0. 0. 0. 0. 0. 0. 0. 0. 0. 0. 0. 0. 0. 0. 0. 0. 0. 0. 0.\n",
      "  0. 0. 0.]\n",
      " [0. 0. 1. 0. 0. 0. 0. 0. 0. 0. 0. 0. 0. 0. 0. 0. 0. 0. 0. 0. 0. 0. 0. 0.\n",
      "  0. 0. 0. 0. 0. 0. 0. 0. 0. 0. 0. 0. 0. 0. 0. 0. 0. 0. 0. 0. 0. 0. 0. 0.\n",
      "  0. 0. 0.]\n",
      " [0. 0. 0. 0. 0. 0. 0. 0. 0. 0. 1. 0. 0. 0. 0. 0. 0. 0. 0. 0. 0. 0. 0. 0.\n",
      "  0. 0. 0. 0. 0. 0. 0. 0. 0. 0. 0. 0. 0. 0. 0. 0. 0. 0. 0. 0. 0. 0. 0. 0.\n",
      "  0. 0. 0.]\n",
      " [0. 0. 0. 0. 0. 0. 0. 0. 0. 0. 0. 0. 0. 0. 0. 0. 0. 0. 0. 0. 0. 0. 0. 0.\n",
      "  0. 0. 0. 0. 0. 0. 0. 0. 0. 0. 0. 0. 0. 0. 0. 0. 0. 0. 0. 0. 1. 0. 0. 0.\n",
      "  0. 0. 0.]\n",
      " [0. 0. 0. 0. 0. 0. 0. 0. 0. 0. 0. 0. 0. 1. 0. 0. 0. 0. 0. 0. 0. 0. 0. 0.\n",
      "  0. 0. 0. 0. 0. 0. 0. 0. 0. 0. 0. 0. 0. 0. 0. 0. 0. 0. 0. 0. 0. 0. 0. 0.\n",
      "  0. 0. 0.]]\n"
     ]
    }
   ],
   "source": [
    "from sklearn.model_selection import train_test_split\n",
    "X_train, X_test, y_train, y_test = train_test_split(X, y, stratify=df['subject'], test_size=0.2, random_state=42)\n",
    "print(f\"X_train shape: {X_train.shape}\")\n",
    "print(f\"X_test shape: {X_test.shape}\")\n",
    "print(f\"y_train shape: {y_train.shape}\")\n",
    "print(f\"y_test shape: {y_test.shape}\")"
   ],
   "metadata": {
    "collapsed": false,
    "ExecuteTime": {
     "end_time": "2024-01-01T15:28:45.817915600Z",
     "start_time": "2024-01-01T15:28:45.735384Z"
    }
   },
   "id": "7d3a8ddaa604fd66"
  }
 ],
 "metadata": {
  "kernelspec": {
   "name": "python3",
   "language": "python",
   "display_name": "Python 3 (ipykernel)"
  },
  "language_info": {
   "codemirror_mode": {
    "name": "ipython",
    "version": 2
   },
   "file_extension": ".py",
   "mimetype": "text/x-python",
   "name": "python",
   "nbconvert_exporter": "python",
   "pygments_lexer": "ipython2",
   "version": "2.7.6"
  }
 },
 "nbformat": 4,
 "nbformat_minor": 5
}
