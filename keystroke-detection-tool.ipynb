{
 "cells": [
  {
   "cell_type": "markdown",
   "source": [
    "# Keystroke Dynamics\n",
    "\n",
    "### Importing libraries"
   ],
   "metadata": {
    "collapsed": false
   },
   "id": "79a41aea35060f70"
  },
  {
   "cell_type": "code",
   "execution_count": 1,
   "id": "initial_id",
   "metadata": {
    "collapsed": true,
    "ExecuteTime": {
     "end_time": "2024-01-08T18:36:48.943159400Z",
     "start_time": "2024-01-08T18:36:46.085797500Z"
    }
   },
   "outputs": [],
   "source": [
    "import pandas as pd\n",
    "import numpy as np\n",
    "import sklearn.preprocessing as preprocessing\n",
    "from sklearn.preprocessing import OneHotEncoder\n",
    "from sklearn.compose import ColumnTransformer\n",
    "from sklearn.model_selection import train_test_split"
   ]
  },
  {
   "cell_type": "markdown",
   "source": [
    "## Data Loading and Preprocessing\n",
    "\n",
    "### Loading data"
   ],
   "metadata": {
    "collapsed": false
   },
   "id": "9125055ef893b840"
  },
  {
   "cell_type": "code",
   "execution_count": 2,
   "outputs": [
    {
     "data": {
      "text/plain": "subject            s002s002s002s002s002s002s002s002s002s002s002s0...\nsessionIndex                                                   91800\nrep                                                           520200\nH.period                                                   1904.9262\nDD.period.t                                                5388.6217\nUD.period.t                                                3483.6955\nH.t                                                         1748.833\nDD.t.i                                                     3449.3299\nUD.t.i                                                     1700.4969\nH.i                                                        1663.9357\nDD.i.e                                                     3251.1835\nUD.i.e                                                     1587.2478\nH.e                                                        1818.4228\nDD.e.five                                                  7699.6484\nUD.e.five                                                  5881.2256\nH.five                                                     1568.8358\nDD.five.Shift.r                                             8953.287\nUD.five.Shift.r                                            7384.4512\nH.Shift.r                                                   1957.124\nDD.Shift.r.o                                               5118.7958\nUD.Shift.r.o                                               3161.6718\nH.o                                                        1802.4212\nDD.o.a                                                      3201.387\nUD.o.a                                                     1398.9658\nH.a                                                        2167.6893\nDD.a.n                                                     3073.6688\nUD.a.n                                                      905.9795\nH.n                                                        1833.9453\nDD.n.l                                                     4133.6574\nUD.n.l                                                     2299.7121\nH.l                                                        1950.0101\nDD.l.Return                                                6565.6859\nUD.l.Return                                                4615.6758\nH.Return                                                   1801.4464\ndtype: object"
     },
     "execution_count": 2,
     "metadata": {},
     "output_type": "execute_result"
    }
   ],
   "source": [
    "df = pd.read_csv('data/StrongPasswordData.csv')\n",
    "df.sum()"
   ],
   "metadata": {
    "collapsed": false,
    "ExecuteTime": {
     "end_time": "2024-01-08T18:36:49.169839600Z",
     "start_time": "2024-01-08T18:36:48.947748700Z"
    }
   },
   "id": "ca9e47dad0f15c92"
  },
  {
   "cell_type": "code",
   "execution_count": 3,
   "outputs": [
    {
     "data": {
      "text/plain": "  subject  sessionIndex  rep  H.period  DD.period.t  UD.period.t     H.t  \\\n0    s002             1    1    0.1491       0.3979       0.2488  0.1069   \n1    s002             1    2    0.1111       0.3451       0.2340  0.0694   \n2    s002             1    3    0.1328       0.2072       0.0744  0.0731   \n3    s002             1    4    0.1291       0.2515       0.1224  0.1059   \n4    s002             1    5    0.1249       0.2317       0.1068  0.0895   \n\n   DD.t.i  UD.t.i     H.i  ...     H.a  DD.a.n  UD.a.n     H.n  DD.n.l  \\\n0  0.1674  0.0605  0.1169  ...  0.1349  0.1484  0.0135  0.0932  0.3515   \n1  0.1283  0.0589  0.0908  ...  0.1412  0.2558  0.1146  0.1146  0.2642   \n2  0.1291  0.0560  0.0821  ...  0.1621  0.2332  0.0711  0.1172  0.2705   \n3  0.2495  0.1436  0.1040  ...  0.1457  0.1629  0.0172  0.0866  0.2341   \n4  0.1676  0.0781  0.0903  ...  0.1312  0.1582  0.0270  0.0884  0.2517   \n\n   UD.n.l     H.l  DD.l.Return  UD.l.Return  H.Return  \n0  0.2583  0.1338       0.3509       0.2171    0.0742  \n1  0.1496  0.0839       0.2756       0.1917    0.0747  \n2  0.1533  0.1085       0.2847       0.1762    0.0945  \n3  0.1475  0.0845       0.3232       0.2387    0.0813  \n4  0.1633  0.0903       0.2517       0.1614    0.0818  \n\n[5 rows x 34 columns]",
      "text/html": "<div>\n<style scoped>\n    .dataframe tbody tr th:only-of-type {\n        vertical-align: middle;\n    }\n\n    .dataframe tbody tr th {\n        vertical-align: top;\n    }\n\n    .dataframe thead th {\n        text-align: right;\n    }\n</style>\n<table border=\"1\" class=\"dataframe\">\n  <thead>\n    <tr style=\"text-align: right;\">\n      <th></th>\n      <th>subject</th>\n      <th>sessionIndex</th>\n      <th>rep</th>\n      <th>H.period</th>\n      <th>DD.period.t</th>\n      <th>UD.period.t</th>\n      <th>H.t</th>\n      <th>DD.t.i</th>\n      <th>UD.t.i</th>\n      <th>H.i</th>\n      <th>...</th>\n      <th>H.a</th>\n      <th>DD.a.n</th>\n      <th>UD.a.n</th>\n      <th>H.n</th>\n      <th>DD.n.l</th>\n      <th>UD.n.l</th>\n      <th>H.l</th>\n      <th>DD.l.Return</th>\n      <th>UD.l.Return</th>\n      <th>H.Return</th>\n    </tr>\n  </thead>\n  <tbody>\n    <tr>\n      <th>0</th>\n      <td>s002</td>\n      <td>1</td>\n      <td>1</td>\n      <td>0.1491</td>\n      <td>0.3979</td>\n      <td>0.2488</td>\n      <td>0.1069</td>\n      <td>0.1674</td>\n      <td>0.0605</td>\n      <td>0.1169</td>\n      <td>...</td>\n      <td>0.1349</td>\n      <td>0.1484</td>\n      <td>0.0135</td>\n      <td>0.0932</td>\n      <td>0.3515</td>\n      <td>0.2583</td>\n      <td>0.1338</td>\n      <td>0.3509</td>\n      <td>0.2171</td>\n      <td>0.0742</td>\n    </tr>\n    <tr>\n      <th>1</th>\n      <td>s002</td>\n      <td>1</td>\n      <td>2</td>\n      <td>0.1111</td>\n      <td>0.3451</td>\n      <td>0.2340</td>\n      <td>0.0694</td>\n      <td>0.1283</td>\n      <td>0.0589</td>\n      <td>0.0908</td>\n      <td>...</td>\n      <td>0.1412</td>\n      <td>0.2558</td>\n      <td>0.1146</td>\n      <td>0.1146</td>\n      <td>0.2642</td>\n      <td>0.1496</td>\n      <td>0.0839</td>\n      <td>0.2756</td>\n      <td>0.1917</td>\n      <td>0.0747</td>\n    </tr>\n    <tr>\n      <th>2</th>\n      <td>s002</td>\n      <td>1</td>\n      <td>3</td>\n      <td>0.1328</td>\n      <td>0.2072</td>\n      <td>0.0744</td>\n      <td>0.0731</td>\n      <td>0.1291</td>\n      <td>0.0560</td>\n      <td>0.0821</td>\n      <td>...</td>\n      <td>0.1621</td>\n      <td>0.2332</td>\n      <td>0.0711</td>\n      <td>0.1172</td>\n      <td>0.2705</td>\n      <td>0.1533</td>\n      <td>0.1085</td>\n      <td>0.2847</td>\n      <td>0.1762</td>\n      <td>0.0945</td>\n    </tr>\n    <tr>\n      <th>3</th>\n      <td>s002</td>\n      <td>1</td>\n      <td>4</td>\n      <td>0.1291</td>\n      <td>0.2515</td>\n      <td>0.1224</td>\n      <td>0.1059</td>\n      <td>0.2495</td>\n      <td>0.1436</td>\n      <td>0.1040</td>\n      <td>...</td>\n      <td>0.1457</td>\n      <td>0.1629</td>\n      <td>0.0172</td>\n      <td>0.0866</td>\n      <td>0.2341</td>\n      <td>0.1475</td>\n      <td>0.0845</td>\n      <td>0.3232</td>\n      <td>0.2387</td>\n      <td>0.0813</td>\n    </tr>\n    <tr>\n      <th>4</th>\n      <td>s002</td>\n      <td>1</td>\n      <td>5</td>\n      <td>0.1249</td>\n      <td>0.2317</td>\n      <td>0.1068</td>\n      <td>0.0895</td>\n      <td>0.1676</td>\n      <td>0.0781</td>\n      <td>0.0903</td>\n      <td>...</td>\n      <td>0.1312</td>\n      <td>0.1582</td>\n      <td>0.0270</td>\n      <td>0.0884</td>\n      <td>0.2517</td>\n      <td>0.1633</td>\n      <td>0.0903</td>\n      <td>0.2517</td>\n      <td>0.1614</td>\n      <td>0.0818</td>\n    </tr>\n  </tbody>\n</table>\n<p>5 rows × 34 columns</p>\n</div>"
     },
     "execution_count": 3,
     "metadata": {},
     "output_type": "execute_result"
    }
   ],
   "source": [
    "df.head()"
   ],
   "metadata": {
    "collapsed": false,
    "ExecuteTime": {
     "end_time": "2024-01-08T18:36:49.191789100Z",
     "start_time": "2024-01-08T18:36:49.115448900Z"
    }
   },
   "id": "5d6f7650cf34d407"
  },
  {
   "cell_type": "markdown",
   "source": [
    "Anomaly detection per user (not general): it will allow us to detect if a user has a different typing pattern than usual. Keystroke dynamics are useful for this purpose because they are unique to each user.\n",
    "However, we don't need the sessionIndex and rep columns, so we can drop them. They only indicate the number of times a user has logged in and typed their password within a session, respectively."
   ],
   "metadata": {
    "collapsed": false
   },
   "id": "e4475e9147719335"
  },
  {
   "cell_type": "code",
   "execution_count": 4,
   "outputs": [
    {
     "data": {
      "text/plain": "  subject  H.period  DD.period.t  UD.period.t     H.t  DD.t.i  UD.t.i     H.i  \\\n0    s002    0.1491       0.3979       0.2488  0.1069  0.1674  0.0605  0.1169   \n1    s002    0.1111       0.3451       0.2340  0.0694  0.1283  0.0589  0.0908   \n2    s002    0.1328       0.2072       0.0744  0.0731  0.1291  0.0560  0.0821   \n3    s002    0.1291       0.2515       0.1224  0.1059  0.2495  0.1436  0.1040   \n4    s002    0.1249       0.2317       0.1068  0.0895  0.1676  0.0781  0.0903   \n\n   DD.i.e  UD.i.e  ...     H.a  DD.a.n  UD.a.n     H.n  DD.n.l  UD.n.l  \\\n0  0.2212  0.1043  ...  0.1349  0.1484  0.0135  0.0932  0.3515  0.2583   \n1  0.1357  0.0449  ...  0.1412  0.2558  0.1146  0.1146  0.2642  0.1496   \n2  0.1542  0.0721  ...  0.1621  0.2332  0.0711  0.1172  0.2705  0.1533   \n3  0.2038  0.0998  ...  0.1457  0.1629  0.0172  0.0866  0.2341  0.1475   \n4  0.1589  0.0686  ...  0.1312  0.1582  0.0270  0.0884  0.2517  0.1633   \n\n      H.l  DD.l.Return  UD.l.Return  H.Return  \n0  0.1338       0.3509       0.2171    0.0742  \n1  0.0839       0.2756       0.1917    0.0747  \n2  0.1085       0.2847       0.1762    0.0945  \n3  0.0845       0.3232       0.2387    0.0813  \n4  0.0903       0.2517       0.1614    0.0818  \n\n[5 rows x 32 columns]",
      "text/html": "<div>\n<style scoped>\n    .dataframe tbody tr th:only-of-type {\n        vertical-align: middle;\n    }\n\n    .dataframe tbody tr th {\n        vertical-align: top;\n    }\n\n    .dataframe thead th {\n        text-align: right;\n    }\n</style>\n<table border=\"1\" class=\"dataframe\">\n  <thead>\n    <tr style=\"text-align: right;\">\n      <th></th>\n      <th>subject</th>\n      <th>H.period</th>\n      <th>DD.period.t</th>\n      <th>UD.period.t</th>\n      <th>H.t</th>\n      <th>DD.t.i</th>\n      <th>UD.t.i</th>\n      <th>H.i</th>\n      <th>DD.i.e</th>\n      <th>UD.i.e</th>\n      <th>...</th>\n      <th>H.a</th>\n      <th>DD.a.n</th>\n      <th>UD.a.n</th>\n      <th>H.n</th>\n      <th>DD.n.l</th>\n      <th>UD.n.l</th>\n      <th>H.l</th>\n      <th>DD.l.Return</th>\n      <th>UD.l.Return</th>\n      <th>H.Return</th>\n    </tr>\n  </thead>\n  <tbody>\n    <tr>\n      <th>0</th>\n      <td>s002</td>\n      <td>0.1491</td>\n      <td>0.3979</td>\n      <td>0.2488</td>\n      <td>0.1069</td>\n      <td>0.1674</td>\n      <td>0.0605</td>\n      <td>0.1169</td>\n      <td>0.2212</td>\n      <td>0.1043</td>\n      <td>...</td>\n      <td>0.1349</td>\n      <td>0.1484</td>\n      <td>0.0135</td>\n      <td>0.0932</td>\n      <td>0.3515</td>\n      <td>0.2583</td>\n      <td>0.1338</td>\n      <td>0.3509</td>\n      <td>0.2171</td>\n      <td>0.0742</td>\n    </tr>\n    <tr>\n      <th>1</th>\n      <td>s002</td>\n      <td>0.1111</td>\n      <td>0.3451</td>\n      <td>0.2340</td>\n      <td>0.0694</td>\n      <td>0.1283</td>\n      <td>0.0589</td>\n      <td>0.0908</td>\n      <td>0.1357</td>\n      <td>0.0449</td>\n      <td>...</td>\n      <td>0.1412</td>\n      <td>0.2558</td>\n      <td>0.1146</td>\n      <td>0.1146</td>\n      <td>0.2642</td>\n      <td>0.1496</td>\n      <td>0.0839</td>\n      <td>0.2756</td>\n      <td>0.1917</td>\n      <td>0.0747</td>\n    </tr>\n    <tr>\n      <th>2</th>\n      <td>s002</td>\n      <td>0.1328</td>\n      <td>0.2072</td>\n      <td>0.0744</td>\n      <td>0.0731</td>\n      <td>0.1291</td>\n      <td>0.0560</td>\n      <td>0.0821</td>\n      <td>0.1542</td>\n      <td>0.0721</td>\n      <td>...</td>\n      <td>0.1621</td>\n      <td>0.2332</td>\n      <td>0.0711</td>\n      <td>0.1172</td>\n      <td>0.2705</td>\n      <td>0.1533</td>\n      <td>0.1085</td>\n      <td>0.2847</td>\n      <td>0.1762</td>\n      <td>0.0945</td>\n    </tr>\n    <tr>\n      <th>3</th>\n      <td>s002</td>\n      <td>0.1291</td>\n      <td>0.2515</td>\n      <td>0.1224</td>\n      <td>0.1059</td>\n      <td>0.2495</td>\n      <td>0.1436</td>\n      <td>0.1040</td>\n      <td>0.2038</td>\n      <td>0.0998</td>\n      <td>...</td>\n      <td>0.1457</td>\n      <td>0.1629</td>\n      <td>0.0172</td>\n      <td>0.0866</td>\n      <td>0.2341</td>\n      <td>0.1475</td>\n      <td>0.0845</td>\n      <td>0.3232</td>\n      <td>0.2387</td>\n      <td>0.0813</td>\n    </tr>\n    <tr>\n      <th>4</th>\n      <td>s002</td>\n      <td>0.1249</td>\n      <td>0.2317</td>\n      <td>0.1068</td>\n      <td>0.0895</td>\n      <td>0.1676</td>\n      <td>0.0781</td>\n      <td>0.0903</td>\n      <td>0.1589</td>\n      <td>0.0686</td>\n      <td>...</td>\n      <td>0.1312</td>\n      <td>0.1582</td>\n      <td>0.0270</td>\n      <td>0.0884</td>\n      <td>0.2517</td>\n      <td>0.1633</td>\n      <td>0.0903</td>\n      <td>0.2517</td>\n      <td>0.1614</td>\n      <td>0.0818</td>\n    </tr>\n  </tbody>\n</table>\n<p>5 rows × 32 columns</p>\n</div>"
     },
     "execution_count": 4,
     "metadata": {},
     "output_type": "execute_result"
    }
   ],
   "source": [
    "drop_cols = ['sessionIndex', 'rep']\n",
    "df = df.drop(drop_cols, axis=1)\n",
    "df.head()"
   ],
   "metadata": {
    "collapsed": false,
    "ExecuteTime": {
     "end_time": "2024-01-08T18:36:49.251849800Z",
     "start_time": "2024-01-08T18:36:49.144389200Z"
    }
   },
   "id": "f6b65a00a94c1be4"
  },
  {
   "cell_type": "markdown",
   "source": [
    "### Feature engineering\n",
    "\n",
    "As the subject column is categorical , we need to encode it. We can use one-hot encoding for this purpose.\n",
    "We choose one-hot encoding because we don't want to introduce any kind of ordinality in the data. Subjects are just labels that identify a user but are only nominal. They don't share relationship between them."
   ],
   "metadata": {
    "collapsed": false
   },
   "id": "c81e5c5aa23600a2"
  },
  {
   "cell_type": "code",
   "execution_count": 5,
   "outputs": [
    {
     "data": {
      "text/plain": "(20400, 51)"
     },
     "execution_count": 5,
     "metadata": {},
     "output_type": "execute_result"
    }
   ],
   "source": [
    "enc = preprocessing.OneHotEncoder()\n",
    "enc.fit(df[['subject']])\n",
    "onehotlabels = enc.transform(df[['subject']]).toarray()\n",
    "onehotlabels.shape"
   ],
   "metadata": {
    "collapsed": false,
    "ExecuteTime": {
     "end_time": "2024-01-08T18:36:49.252878600Z",
     "start_time": "2024-01-08T18:36:49.173133200Z"
    }
   },
   "id": "fbd07200a80462b4"
  },
  {
   "cell_type": "markdown",
   "source": [
    "We have 51 subjects, so we have 51 columns. Now, we are replacing the subject column with the one-hot encoded columns and dropping the original subject column thanks to the ColumnTransformer class from scikit-learn, we want to keep the rest of the columns as they are already numerical features."
   ],
   "metadata": {
    "collapsed": false
   },
   "id": "cb90161cf6f9ab72"
  },
  {
   "cell_type": "code",
   "execution_count": 6,
   "outputs": [],
   "source": [
    "ct=ColumnTransformer(transformers=[('encoder',OneHotEncoder(),[0])],remainder='passthrough')\n",
    "unique_cols=df['subject'].nunique()\n",
    "\n",
    "data=np.array(ct.fit_transform(df))"
   ],
   "metadata": {
    "collapsed": false,
    "ExecuteTime": {
     "end_time": "2024-01-08T18:36:49.370167600Z",
     "start_time": "2024-01-08T18:36:49.190622700Z"
    }
   },
   "id": "4ed3892ee0cc7028"
  },
  {
   "cell_type": "code",
   "execution_count": 7,
   "outputs": [
    {
     "data": {
      "text/plain": "array([[1.    , 0.    , 0.    , 0.    , 0.    , 0.    , 0.    , 0.    ,\n        0.    , 0.    , 0.    , 0.    , 0.    , 0.    , 0.    , 0.    ,\n        0.    , 0.    , 0.    , 0.    , 0.    , 0.    , 0.    , 0.    ,\n        0.    , 0.    , 0.    , 0.    , 0.    , 0.    , 0.    , 0.    ,\n        0.    , 0.    , 0.    , 0.    , 0.    , 0.    , 0.    , 0.    ,\n        0.    , 0.    , 0.    , 0.    , 0.    , 0.    , 0.    , 0.    ,\n        0.    , 0.    , 0.    , 0.1491, 0.3979, 0.2488, 0.1069, 0.1674,\n        0.0605, 0.1169, 0.2212, 0.1043, 0.1417, 1.1885, 1.0468, 0.1146,\n        1.6055, 1.4909, 0.1067, 0.759 , 0.6523, 0.1016, 0.2136, 0.112 ,\n        0.1349, 0.1484, 0.0135, 0.0932, 0.3515, 0.2583, 0.1338, 0.3509,\n        0.2171, 0.0742],\n       [1.    , 0.    , 0.    , 0.    , 0.    , 0.    , 0.    , 0.    ,\n        0.    , 0.    , 0.    , 0.    , 0.    , 0.    , 0.    , 0.    ,\n        0.    , 0.    , 0.    , 0.    , 0.    , 0.    , 0.    , 0.    ,\n        0.    , 0.    , 0.    , 0.    , 0.    , 0.    , 0.    , 0.    ,\n        0.    , 0.    , 0.    , 0.    , 0.    , 0.    , 0.    , 0.    ,\n        0.    , 0.    , 0.    , 0.    , 0.    , 0.    , 0.    , 0.    ,\n        0.    , 0.    , 0.    , 0.1111, 0.3451, 0.234 , 0.0694, 0.1283,\n        0.0589, 0.0908, 0.1357, 0.0449, 0.0829, 1.197 , 1.1141, 0.0689,\n        0.7822, 0.7133, 0.157 , 0.7877, 0.6307, 0.1066, 0.1684, 0.0618,\n        0.1412, 0.2558, 0.1146, 0.1146, 0.2642, 0.1496, 0.0839, 0.2756,\n        0.1917, 0.0747],\n       [1.    , 0.    , 0.    , 0.    , 0.    , 0.    , 0.    , 0.    ,\n        0.    , 0.    , 0.    , 0.    , 0.    , 0.    , 0.    , 0.    ,\n        0.    , 0.    , 0.    , 0.    , 0.    , 0.    , 0.    , 0.    ,\n        0.    , 0.    , 0.    , 0.    , 0.    , 0.    , 0.    , 0.    ,\n        0.    , 0.    , 0.    , 0.    , 0.    , 0.    , 0.    , 0.    ,\n        0.    , 0.    , 0.    , 0.    , 0.    , 0.    , 0.    , 0.    ,\n        0.    , 0.    , 0.    , 0.1328, 0.2072, 0.0744, 0.0731, 0.1291,\n        0.056 , 0.0821, 0.1542, 0.0721, 0.0808, 1.0408, 0.96  , 0.0892,\n        0.6203, 0.5311, 0.1454, 0.7195, 0.5741, 0.1365, 0.2931, 0.1566,\n        0.1621, 0.2332, 0.0711, 0.1172, 0.2705, 0.1533, 0.1085, 0.2847,\n        0.1762, 0.0945],\n       [1.    , 0.    , 0.    , 0.    , 0.    , 0.    , 0.    , 0.    ,\n        0.    , 0.    , 0.    , 0.    , 0.    , 0.    , 0.    , 0.    ,\n        0.    , 0.    , 0.    , 0.    , 0.    , 0.    , 0.    , 0.    ,\n        0.    , 0.    , 0.    , 0.    , 0.    , 0.    , 0.    , 0.    ,\n        0.    , 0.    , 0.    , 0.    , 0.    , 0.    , 0.    , 0.    ,\n        0.    , 0.    , 0.    , 0.    , 0.    , 0.    , 0.    , 0.    ,\n        0.    , 0.    , 0.    , 0.1291, 0.2515, 0.1224, 0.1059, 0.2495,\n        0.1436, 0.104 , 0.2038, 0.0998, 0.09  , 1.0556, 0.9656, 0.0913,\n        1.2564, 1.1651, 0.1454, 0.755 , 0.6096, 0.0956, 0.153 , 0.0574,\n        0.1457, 0.1629, 0.0172, 0.0866, 0.2341, 0.1475, 0.0845, 0.3232,\n        0.2387, 0.0813],\n       [1.    , 0.    , 0.    , 0.    , 0.    , 0.    , 0.    , 0.    ,\n        0.    , 0.    , 0.    , 0.    , 0.    , 0.    , 0.    , 0.    ,\n        0.    , 0.    , 0.    , 0.    , 0.    , 0.    , 0.    , 0.    ,\n        0.    , 0.    , 0.    , 0.    , 0.    , 0.    , 0.    , 0.    ,\n        0.    , 0.    , 0.    , 0.    , 0.    , 0.    , 0.    , 0.    ,\n        0.    , 0.    , 0.    , 0.    , 0.    , 0.    , 0.    , 0.    ,\n        0.    , 0.    , 0.    , 0.1249, 0.2317, 0.1068, 0.0895, 0.1676,\n        0.0781, 0.0903, 0.1589, 0.0686, 0.0805, 0.8629, 0.7824, 0.0742,\n        0.8955, 0.8213, 0.1243, 0.7632, 0.6389, 0.043 , 0.1975, 0.1545,\n        0.1312, 0.1582, 0.027 , 0.0884, 0.2517, 0.1633, 0.0903, 0.2517,\n        0.1614, 0.0818]])"
     },
     "execution_count": 7,
     "metadata": {},
     "output_type": "execute_result"
    }
   ],
   "source": [
    "data[:5]"
   ],
   "metadata": {
    "collapsed": false,
    "ExecuteTime": {
     "end_time": "2024-01-08T18:36:49.372601400Z",
     "start_time": "2024-01-08T18:36:49.224605400Z"
    }
   },
   "id": "95a88c88a2ded202"
  },
  {
   "cell_type": "code",
   "execution_count": 8,
   "outputs": [
    {
     "name": "stdout",
     "output_type": "stream",
     "text": [
      "(20400, 51)\n"
     ]
    }
   ],
   "source": [
    "X=data[:,unique_cols:]\n",
    "y=data[:,:unique_cols]\n",
    "print(y.shape)"
   ],
   "metadata": {
    "collapsed": false,
    "ExecuteTime": {
     "end_time": "2024-01-08T18:36:49.374785400Z",
     "start_time": "2024-01-08T18:36:49.233485100Z"
    }
   },
   "id": "1492a3995050ed23"
  },
  {
   "cell_type": "markdown",
   "source": [
    "## Data splitting"
   ],
   "metadata": {
    "collapsed": false
   },
   "id": "f70035e544550da9"
  },
  {
   "cell_type": "markdown",
   "source": [
    "As a usual practice, we will split the dataset into 80% for training and 20% for testing. We want to stratify the split by subject, so we can have the same proportion of subjects in both sets."
   ],
   "metadata": {
    "collapsed": false
   },
   "id": "3732cb89a5a512f2"
  },
  {
   "cell_type": "code",
   "execution_count": 9,
   "outputs": [
    {
     "name": "stdout",
     "output_type": "stream",
     "text": [
      "X_train shape: (16320, 31)\n",
      "X_test shape: (4080, 31)\n",
      "y_train shape: (16320, 51)\n",
      "y_test shape: (4080, 51)\n"
     ]
    }
   ],
   "source": [
    "X_train, X_test, y_train, y_test = train_test_split(X, y, stratify=df['subject'], test_size=0.2, random_state=42)\n",
    "print(f\"X_train shape: {X_train.shape}\")\n",
    "print(f\"X_test shape: {X_test.shape}\")\n",
    "print(f\"y_train shape: {y_train.shape}\")\n",
    "print(f\"y_test shape: {y_test.shape}\")"
   ],
   "metadata": {
    "collapsed": false,
    "ExecuteTime": {
     "end_time": "2024-01-08T18:36:49.467446700Z",
     "start_time": "2024-01-08T18:36:49.242265200Z"
    }
   },
   "id": "7d3a8ddaa604fd66"
  },
  {
   "cell_type": "code",
   "execution_count": 10,
   "outputs": [
    {
     "data": {
      "text/plain": "array([[ 0.0515,  0.1755,  0.124 ,  0.032 ,  0.0471,  0.0151,  0.0254,\n         0.3914,  0.366 ,  0.0665,  0.5834,  0.5169,  0.0404,  0.3648,\n         0.3244,  0.0541,  0.217 ,  0.1629,  0.0547,  0.1279,  0.0732,\n         0.0591,  0.0602,  0.0011,  0.0462,  0.1528,  0.1066,  0.0599,\n         0.1704,  0.1105,  0.0547],\n       [ 0.1309,  0.4092,  0.2783,  0.0945,  0.1122,  0.0177,  0.1349,\n         0.1338, -0.0011,  0.0843,  0.6247,  0.5404,  0.071 ,  0.3906,\n         0.3196,  0.1307,  0.2212,  0.0905,  0.0953,  0.116 ,  0.0207,\n         0.1241,  0.1598,  0.0357,  0.0892,  0.1528,  0.0636,  0.095 ,\n         0.2073,  0.1123,  0.0961],\n       [ 0.0679,  0.1718,  0.1039,  0.0856,  0.0787, -0.0069,  0.0914,\n         0.0167, -0.0747,  0.0813,  0.1869,  0.1056,  0.076 ,  0.2118,\n         0.1358,  0.0837,  0.1231,  0.0394,  0.076 ,  0.1152,  0.0392,\n         0.1038,  0.0117, -0.0921,  0.0781,  0.0932,  0.0151,  0.0805,\n         0.1804,  0.0999,  0.0478],\n       [ 0.0963,  0.1825,  0.0862,  0.0657,  0.1037,  0.038 ,  0.0824,\n         0.0768, -0.0056,  0.0689,  0.1496,  0.0807,  0.0786,  0.363 ,\n         0.2844,  0.0921,  0.2013,  0.1092,  0.0839,  0.1062,  0.0223,\n         0.0863,  0.1713,  0.085 ,  0.0533,  0.4871,  0.4338,  0.0955,\n         0.2259,  0.1304,  0.0567],\n       [ 0.1354,  0.153 ,  0.0176,  0.089 ,  0.1877,  0.0987,  0.056 ,\n         0.8398,  0.7838,  0.0927,  0.4856,  0.3929,  0.0684,  0.4659,\n         0.3975,  0.107 ,  0.2527,  0.1457,  0.1045,  0.1249,  0.0204,\n         0.1272,  0.1882,  0.061 ,  0.1397,  0.0219, -0.1178,  0.1571,\n         0.3404,  0.1833,  0.0818]])"
     },
     "execution_count": 10,
     "metadata": {},
     "output_type": "execute_result"
    }
   ],
   "source": [
    "X_train[:5]"
   ],
   "metadata": {
    "collapsed": false,
    "ExecuteTime": {
     "end_time": "2024-01-08T18:36:49.468526900Z",
     "start_time": "2024-01-08T18:36:49.269881900Z"
    }
   },
   "id": "c8de81073f7e3676"
  },
  {
   "cell_type": "markdown",
   "source": [
    "## Single models"
   ],
   "metadata": {
    "collapsed": false
   },
   "id": "98421d101b48f9ac"
  },
  {
   "cell_type": "markdown",
   "source": [
    "### Random Forest Classifier"
   ],
   "metadata": {
    "collapsed": false
   },
   "id": "e7ad00eeda256ad4"
  },
  {
   "cell_type": "code",
   "outputs": [],
   "source": [
    "from sklearn.ensemble import RandomForestClassifier"
   ],
   "metadata": {
    "collapsed": false,
    "ExecuteTime": {
     "end_time": "2024-01-08T18:36:50.009991700Z",
     "start_time": "2024-01-08T18:36:49.279176400Z"
    }
   },
   "id": "596bb70fc2ce1dfc",
   "execution_count": 11
  },
  {
   "cell_type": "code",
   "outputs": [
    {
     "name": "stdout",
     "output_type": "stream",
     "text": [
      "building tree 1 of 100\n",
      "building tree 2 of 100\n",
      "building tree 3 of 100\n",
      "building tree 4 of 100\n",
      "building tree 5 of 100\n",
      "building tree 6 of 100\n",
      "building tree 7 of 100\n",
      "building tree 8 of 100\n",
      "building tree 9 of 100\n",
      "building tree 10 of 100\n",
      "building tree 11 of 100\n",
      "building tree 12 of 100\n",
      "building tree 13 of 100\n",
      "building tree 14 of 100\n",
      "building tree 15 of 100\n",
      "building tree 16 of 100\n",
      "building tree 17 of 100\n",
      "building tree 18 of 100\n",
      "building tree 19 of 100\n",
      "building tree 20 of 100\n",
      "building tree 21 of 100\n",
      "building tree 22 of 100\n",
      "building tree 23 of 100\n",
      "building tree 24 of 100\n",
      "building tree 25 of 100\n",
      "building tree 26 of 100\n",
      "building tree 27 of 100\n",
      "building tree 28 of 100\n",
      "building tree 29 of 100\n",
      "building tree 30 of 100\n",
      "building tree 31 of 100\n",
      "building tree 32 of 100\n",
      "building tree 33 of 100\n",
      "building tree 34 of 100\n",
      "building tree 35 of 100\n",
      "building tree 36 of 100\n",
      "building tree 37 of 100\n",
      "building tree 38 of 100\n",
      "building tree 39 of 100\n",
      "building tree 40 of 100\n"
     ]
    },
    {
     "name": "stderr",
     "output_type": "stream",
     "text": [
      "[Parallel(n_jobs=1)]: Done  40 tasks      | elapsed:   19.1s\n"
     ]
    },
    {
     "name": "stdout",
     "output_type": "stream",
     "text": [
      "building tree 41 of 100\n",
      "building tree 42 of 100\n",
      "building tree 43 of 100\n",
      "building tree 44 of 100\n",
      "building tree 45 of 100\n",
      "building tree 46 of 100\n",
      "building tree 47 of 100\n",
      "building tree 48 of 100\n",
      "building tree 49 of 100\n",
      "building tree 50 of 100\n",
      "building tree 51 of 100\n",
      "building tree 52 of 100\n",
      "building tree 53 of 100\n",
      "building tree 54 of 100\n",
      "building tree 55 of 100\n",
      "building tree 56 of 100\n",
      "building tree 57 of 100\n",
      "building tree 58 of 100\n",
      "building tree 59 of 100\n",
      "building tree 60 of 100\n",
      "building tree 61 of 100\n",
      "building tree 62 of 100\n",
      "building tree 63 of 100\n",
      "building tree 64 of 100\n",
      "building tree 65 of 100\n",
      "building tree 66 of 100\n",
      "building tree 67 of 100\n",
      "building tree 68 of 100\n",
      "building tree 69 of 100\n",
      "building tree 70 of 100\n",
      "building tree 71 of 100\n",
      "building tree 72 of 100\n",
      "building tree 73 of 100\n",
      "building tree 74 of 100\n",
      "building tree 75 of 100\n",
      "building tree 76 of 100\n",
      "building tree 77 of 100\n",
      "building tree 78 of 100\n",
      "building tree 79 of 100\n",
      "building tree 80 of 100\n",
      "building tree 81 of 100\n",
      "building tree 82 of 100\n",
      "building tree 83 of 100\n",
      "building tree 84 of 100\n",
      "building tree 85 of 100\n",
      "building tree 86 of 100\n",
      "building tree 87 of 100\n",
      "building tree 88 of 100\n",
      "building tree 89 of 100\n",
      "building tree 90 of 100\n",
      "building tree 91 of 100\n",
      "building tree 92 of 100\n",
      "building tree 93 of 100\n",
      "building tree 94 of 100\n",
      "building tree 95 of 100\n",
      "building tree 96 of 100\n",
      "building tree 97 of 100\n",
      "building tree 98 of 100\n",
      "building tree 99 of 100\n",
      "building tree 100 of 100\n"
     ]
    },
    {
     "name": "stderr",
     "output_type": "stream",
     "text": [
      "[Parallel(n_jobs=1)]: Done  40 tasks      | elapsed:    0.4s\n",
      "[Parallel(n_jobs=1)]: Done  40 tasks      | elapsed:    1.8s\n"
     ]
    },
    {
     "name": "stdout",
     "output_type": "stream",
     "text": [
      "Training set score: 0.9998774509803922\n"
     ]
    },
    {
     "name": "stderr",
     "output_type": "stream",
     "text": [
      "[Parallel(n_jobs=1)]: Done  40 tasks      | elapsed:    0.4s\n"
     ]
    },
    {
     "name": "stdout",
     "output_type": "stream",
     "text": [
      "Test set score: 0.7\n"
     ]
    }
   ],
   "source": [
    "rf = RandomForestClassifier(random_state=42, verbose=2)\n",
    "rf.fit(X_train, y_train)\n",
    "rf.predict(X_test)\n",
    "\n",
    "print(f\"Training set score: {rf.score(X_train, y_train)}\")\n",
    "print(f\"Test set score: {rf.score(X_test, y_test)}\")"
   ],
   "metadata": {
    "collapsed": false,
    "ExecuteTime": {
     "end_time": "2024-01-08T18:38:41.633531600Z",
     "start_time": "2024-01-08T18:37:44.639197900Z"
    }
   },
   "id": "6abb908c7b60406e",
   "execution_count": 13
  },
  {
   "cell_type": "markdown",
   "source": [
    "### K-Nearest Neighbors Classifier"
   ],
   "metadata": {
    "collapsed": false
   },
   "id": "190346eee350fe5f"
  },
  {
   "cell_type": "code",
   "outputs": [],
   "source": [
    "from sklearn.neighbors import KNeighborsClassifier"
   ],
   "metadata": {
    "collapsed": false,
    "ExecuteTime": {
     "end_time": "2024-01-08T18:38:49.612533100Z",
     "start_time": "2024-01-08T18:38:49.587315500Z"
    }
   },
   "id": "1ed6111709092c26",
   "execution_count": 14
  },
  {
   "cell_type": "code",
   "outputs": [
    {
     "name": "stdout",
     "output_type": "stream",
     "text": [
      "Training set score: 0.7469362745098039\n",
      "Test set score: 0.6877450980392157\n"
     ]
    }
   ],
   "source": [
    "knn = KNeighborsClassifier()\n",
    "knn.fit(X_train, y_train)\n",
    "knn.predict(X_test)\n",
    "\n",
    "print(f\"Training set score: {knn.score(X_train, y_train)}\")\n",
    "print(f\"Test set score: {knn.score(X_test, y_test)}\")"
   ],
   "metadata": {
    "collapsed": false,
    "ExecuteTime": {
     "end_time": "2024-01-08T18:38:51.643073Z",
     "start_time": "2024-01-08T18:38:50.071308Z"
    }
   },
   "id": "20c4bb56980e8b57",
   "execution_count": 15
  },
  {
   "cell_type": "markdown",
   "source": [
    "### Multi-Layer Perceptron Classifier"
   ],
   "metadata": {
    "collapsed": false
   },
   "id": "d3be1a1e39dc0414"
  },
  {
   "cell_type": "code",
   "outputs": [],
   "source": [
    "from sklearn.neural_network import MLPClassifier"
   ],
   "metadata": {
    "collapsed": false,
    "ExecuteTime": {
     "end_time": "2024-01-08T18:38:56.037672700Z",
     "start_time": "2024-01-08T18:38:55.250876100Z"
    }
   },
   "id": "9f951824e47ceb54",
   "execution_count": 16
  },
  {
   "cell_type": "code",
   "outputs": [
    {
     "name": "stdout",
     "output_type": "stream",
     "text": [
      "Iteration 1, loss = 18.09129648\n",
      "Iteration 2, loss = 5.49977526\n",
      "Iteration 3, loss = 5.25242135\n",
      "Iteration 4, loss = 4.98265950\n",
      "Iteration 5, loss = 4.74451788\n",
      "Iteration 6, loss = 4.60797216\n",
      "Iteration 7, loss = 4.51338817\n",
      "Iteration 8, loss = 4.43261354\n",
      "Iteration 9, loss = 4.35926092\n",
      "Iteration 10, loss = 4.28747054\n",
      "Iteration 11, loss = 4.21524951\n",
      "Iteration 12, loss = 4.13947738\n",
      "Iteration 13, loss = 4.05840319\n",
      "Iteration 14, loss = 3.97512589\n",
      "Iteration 15, loss = 3.88896014\n",
      "Iteration 16, loss = 3.80307087\n",
      "Iteration 17, loss = 3.72022670\n",
      "Iteration 18, loss = 3.63663208\n",
      "Iteration 19, loss = 3.55586542\n",
      "Iteration 20, loss = 3.47737786\n",
      "Iteration 21, loss = 3.39946898\n",
      "Iteration 22, loss = 3.32274132\n",
      "Iteration 23, loss = 3.25112446\n",
      "Iteration 24, loss = 3.18439845\n",
      "Iteration 25, loss = 3.12095487\n",
      "Iteration 26, loss = 3.06324315\n",
      "Iteration 27, loss = 3.00730252\n",
      "Iteration 28, loss = 2.95602450\n",
      "Iteration 29, loss = 2.90850056\n",
      "Iteration 30, loss = 2.85967879\n",
      "Iteration 31, loss = 2.81342610\n",
      "Iteration 32, loss = 2.76889789\n",
      "Iteration 33, loss = 2.72700546\n",
      "Iteration 34, loss = 2.68741208\n",
      "Iteration 35, loss = 2.65041614\n",
      "Iteration 36, loss = 2.61550333\n",
      "Iteration 37, loss = 2.57926023\n",
      "Iteration 38, loss = 2.54716755\n",
      "Iteration 39, loss = 2.51453576\n",
      "Iteration 40, loss = 2.48293261\n",
      "Iteration 41, loss = 2.45309339\n",
      "Iteration 42, loss = 2.42381158\n",
      "Iteration 43, loss = 2.39369038\n",
      "Iteration 44, loss = 2.36559779\n",
      "Iteration 45, loss = 2.33815269\n",
      "Iteration 46, loss = 2.30987071\n",
      "Iteration 47, loss = 2.28277437\n",
      "Iteration 48, loss = 2.25682860\n",
      "Iteration 49, loss = 2.23059127\n",
      "Iteration 50, loss = 2.20426891\n",
      "Iteration 51, loss = 2.18014963\n",
      "Iteration 52, loss = 2.15401056\n",
      "Iteration 53, loss = 2.12893639\n",
      "Iteration 54, loss = 2.10487149\n",
      "Iteration 55, loss = 2.07999931\n",
      "Iteration 56, loss = 2.05572635\n",
      "Iteration 57, loss = 2.03252675\n",
      "Iteration 58, loss = 2.00928846\n",
      "Iteration 59, loss = 1.98490498\n",
      "Iteration 60, loss = 1.96263562\n",
      "Iteration 61, loss = 1.93953927\n",
      "Iteration 62, loss = 1.91841550\n",
      "Iteration 63, loss = 1.89598936\n",
      "Iteration 64, loss = 1.87528296\n",
      "Iteration 65, loss = 1.85367164\n",
      "Iteration 66, loss = 1.83190445\n",
      "Iteration 67, loss = 1.81217834\n",
      "Iteration 68, loss = 1.79235560\n",
      "Iteration 69, loss = 1.77272239\n",
      "Iteration 70, loss = 1.75376505\n",
      "Iteration 71, loss = 1.73481149\n",
      "Iteration 72, loss = 1.71503172\n",
      "Iteration 73, loss = 1.69799176\n",
      "Iteration 74, loss = 1.68001281\n",
      "Iteration 75, loss = 1.66373143\n",
      "Iteration 76, loss = 1.64459508\n",
      "Iteration 77, loss = 1.62856220\n",
      "Iteration 78, loss = 1.61289498\n",
      "Iteration 79, loss = 1.59632433\n",
      "Iteration 80, loss = 1.57985128\n",
      "Iteration 81, loss = 1.56460686\n",
      "Iteration 82, loss = 1.55044037\n",
      "Iteration 83, loss = 1.53613739\n",
      "Iteration 84, loss = 1.52015468\n",
      "Iteration 85, loss = 1.50627665\n",
      "Iteration 86, loss = 1.49240157\n",
      "Iteration 87, loss = 1.47797151\n",
      "Iteration 88, loss = 1.46507265\n",
      "Iteration 89, loss = 1.45352841\n",
      "Iteration 90, loss = 1.44010418\n",
      "Iteration 91, loss = 1.42768214\n",
      "Iteration 92, loss = 1.41581495\n",
      "Iteration 93, loss = 1.40363227\n",
      "Iteration 94, loss = 1.39248735\n",
      "Iteration 95, loss = 1.38080654\n",
      "Iteration 96, loss = 1.36864645\n",
      "Iteration 97, loss = 1.35822639\n",
      "Iteration 98, loss = 1.34711745\n",
      "Iteration 99, loss = 1.33782700\n",
      "Iteration 100, loss = 1.32665871\n",
      "Iteration 101, loss = 1.31671453\n",
      "Iteration 102, loss = 1.30656080\n",
      "Iteration 103, loss = 1.29670888\n",
      "Iteration 104, loss = 1.28699001\n",
      "Iteration 105, loss = 1.27825304\n",
      "Iteration 106, loss = 1.26897989\n",
      "Iteration 107, loss = 1.25946107\n",
      "Iteration 108, loss = 1.24989248\n",
      "Iteration 109, loss = 1.24212770\n",
      "Iteration 110, loss = 1.23229901\n",
      "Iteration 111, loss = 1.22490862\n",
      "Iteration 112, loss = 1.21676783\n",
      "Iteration 113, loss = 1.20935421\n",
      "Iteration 114, loss = 1.20203376\n",
      "Iteration 115, loss = 1.19313130\n",
      "Iteration 116, loss = 1.18541929\n",
      "Iteration 117, loss = 1.17734966\n",
      "Iteration 118, loss = 1.17105806\n",
      "Iteration 119, loss = 1.16330621\n",
      "Iteration 120, loss = 1.15616637\n",
      "Iteration 121, loss = 1.15016793\n",
      "Iteration 122, loss = 1.14222118\n",
      "Iteration 123, loss = 1.13541828\n",
      "Iteration 124, loss = 1.12929473\n",
      "Iteration 125, loss = 1.12205569\n",
      "Iteration 126, loss = 1.11587136\n",
      "Iteration 127, loss = 1.10966130\n",
      "Iteration 128, loss = 1.10272371\n",
      "Iteration 129, loss = 1.09664854\n",
      "Iteration 130, loss = 1.09060322\n",
      "Iteration 131, loss = 1.08612897\n",
      "Iteration 132, loss = 1.07992736\n",
      "Iteration 133, loss = 1.07407332\n",
      "Iteration 134, loss = 1.06857567\n",
      "Iteration 135, loss = 1.06235436\n",
      "Iteration 136, loss = 1.05807847\n",
      "Iteration 137, loss = 1.05134191\n",
      "Iteration 138, loss = 1.04684127\n",
      "Iteration 139, loss = 1.04259879\n",
      "Iteration 140, loss = 1.03627876\n",
      "Iteration 141, loss = 1.03159794\n",
      "Iteration 142, loss = 1.02662154\n",
      "Iteration 143, loss = 1.02161549\n",
      "Iteration 144, loss = 1.01683203\n",
      "Iteration 145, loss = 1.01275645\n",
      "Iteration 146, loss = 1.00736330\n",
      "Iteration 147, loss = 1.00274719\n",
      "Iteration 148, loss = 0.99784450\n",
      "Iteration 149, loss = 0.99300059\n",
      "Iteration 150, loss = 0.98908336\n",
      "Iteration 151, loss = 0.98470126\n",
      "Iteration 152, loss = 0.97996985\n",
      "Iteration 153, loss = 0.97624272\n",
      "Iteration 154, loss = 0.97109460\n",
      "Iteration 155, loss = 0.96744755\n",
      "Iteration 156, loss = 0.96311094\n",
      "Iteration 157, loss = 0.95835495\n",
      "Iteration 158, loss = 0.95564063\n",
      "Iteration 159, loss = 0.95110055\n",
      "Iteration 160, loss = 0.94677477\n",
      "Iteration 161, loss = 0.94319015\n",
      "Iteration 162, loss = 0.93888235\n",
      "Iteration 163, loss = 0.93489878\n",
      "Iteration 164, loss = 0.93126309\n",
      "Iteration 165, loss = 0.92741293\n",
      "Iteration 166, loss = 0.92337737\n",
      "Iteration 167, loss = 0.91913484\n",
      "Iteration 168, loss = 0.91581302\n",
      "Iteration 169, loss = 0.91224783\n",
      "Iteration 170, loss = 0.90870815\n",
      "Iteration 171, loss = 0.90512289\n",
      "Iteration 172, loss = 0.90217233\n",
      "Iteration 173, loss = 0.89855294\n",
      "Iteration 174, loss = 0.89506021\n",
      "Iteration 175, loss = 0.89178192\n",
      "Iteration 176, loss = 0.88857785\n",
      "Iteration 177, loss = 0.88467445\n",
      "Iteration 178, loss = 0.88172328\n",
      "Iteration 179, loss = 0.87826149\n",
      "Iteration 180, loss = 0.87583666\n",
      "Iteration 181, loss = 0.87365332\n",
      "Iteration 182, loss = 0.86945057\n",
      "Iteration 183, loss = 0.86648226\n",
      "Iteration 184, loss = 0.86263826\n",
      "Iteration 185, loss = 0.86087803\n",
      "Iteration 186, loss = 0.85731785\n",
      "Iteration 187, loss = 0.85400158\n",
      "Iteration 188, loss = 0.85141461\n",
      "Iteration 189, loss = 0.84830466\n",
      "Iteration 190, loss = 0.84509897\n",
      "Iteration 191, loss = 0.84371050\n",
      "Iteration 192, loss = 0.84007333\n",
      "Iteration 193, loss = 0.83664662\n",
      "Iteration 194, loss = 0.83503999\n",
      "Iteration 195, loss = 0.83224090\n",
      "Iteration 196, loss = 0.82831670\n",
      "Iteration 197, loss = 0.82641273\n",
      "Iteration 198, loss = 0.82328132\n",
      "Iteration 199, loss = 0.82107696\n",
      "Iteration 200, loss = 0.81890602\n",
      "Iteration 201, loss = 0.81580434\n",
      "Iteration 202, loss = 0.81274962\n",
      "Iteration 203, loss = 0.81029765\n",
      "Iteration 204, loss = 0.80786861\n",
      "Iteration 205, loss = 0.80545438\n",
      "Iteration 206, loss = 0.80316166\n",
      "Iteration 207, loss = 0.80213695\n",
      "Iteration 208, loss = 0.79841739\n",
      "Iteration 209, loss = 0.79647309\n",
      "Iteration 210, loss = 0.79266954\n",
      "Iteration 211, loss = 0.79175545\n",
      "Iteration 212, loss = 0.78956139\n",
      "Iteration 213, loss = 0.78676257\n",
      "Iteration 214, loss = 0.78416716\n",
      "Iteration 215, loss = 0.78163975\n",
      "Iteration 216, loss = 0.77940146\n",
      "Iteration 217, loss = 0.77773127\n",
      "Iteration 218, loss = 0.77466799\n",
      "Iteration 219, loss = 0.77287851\n",
      "Iteration 220, loss = 0.76986288\n",
      "Iteration 221, loss = 0.76910557\n",
      "Iteration 222, loss = 0.76611640\n",
      "Iteration 223, loss = 0.76442718\n",
      "Iteration 224, loss = 0.76173801\n",
      "Iteration 225, loss = 0.75954796\n",
      "Iteration 226, loss = 0.75768688\n",
      "Iteration 227, loss = 0.75574121\n",
      "Iteration 228, loss = 0.75380545\n",
      "Iteration 229, loss = 0.75220678\n",
      "Iteration 230, loss = 0.74947310\n",
      "Iteration 231, loss = 0.74746131\n",
      "Iteration 232, loss = 0.74672452\n",
      "Iteration 233, loss = 0.74343109\n",
      "Iteration 234, loss = 0.74108525\n",
      "Iteration 235, loss = 0.73934975\n",
      "Iteration 236, loss = 0.73758296\n",
      "Iteration 237, loss = 0.73537896\n",
      "Iteration 238, loss = 0.73344911\n",
      "Iteration 239, loss = 0.73156762\n",
      "Iteration 240, loss = 0.72954195\n",
      "Iteration 241, loss = 0.72814541\n",
      "Iteration 242, loss = 0.72572755\n",
      "Iteration 243, loss = 0.72282007\n",
      "Iteration 244, loss = 0.72195958\n",
      "Iteration 245, loss = 0.72078914\n",
      "Iteration 246, loss = 0.71910049\n",
      "Iteration 247, loss = 0.71727985\n",
      "Iteration 248, loss = 0.71509820\n",
      "Iteration 249, loss = 0.71281274\n",
      "Iteration 250, loss = 0.71164228\n",
      "Iteration 251, loss = 0.70986261\n",
      "Iteration 252, loss = 0.70828179\n",
      "Iteration 253, loss = 0.70614416\n",
      "Iteration 254, loss = 0.70492027\n",
      "Iteration 255, loss = 0.70380380\n",
      "Iteration 256, loss = 0.70186322\n",
      "Iteration 257, loss = 0.70002653\n",
      "Iteration 258, loss = 0.69716596\n",
      "Iteration 259, loss = 0.69611842\n",
      "Iteration 260, loss = 0.69403642\n",
      "Iteration 261, loss = 0.69295254\n",
      "Iteration 262, loss = 0.69047181\n",
      "Iteration 263, loss = 0.69008011\n",
      "Iteration 264, loss = 0.68860483\n",
      "Iteration 265, loss = 0.68706942\n",
      "Iteration 266, loss = 0.68562818\n",
      "Iteration 267, loss = 0.68466845\n",
      "Iteration 268, loss = 0.68172233\n",
      "Iteration 269, loss = 0.68008873\n",
      "Iteration 270, loss = 0.67786012\n",
      "Iteration 271, loss = 0.67696094\n",
      "Iteration 272, loss = 0.67617434\n",
      "Iteration 273, loss = 0.67416039\n",
      "Iteration 274, loss = 0.67210888\n",
      "Iteration 275, loss = 0.67093878\n",
      "Iteration 276, loss = 0.67048914\n",
      "Iteration 277, loss = 0.66859582\n",
      "Iteration 278, loss = 0.66678136\n",
      "Iteration 279, loss = 0.66526676\n",
      "Iteration 280, loss = 0.66335287\n",
      "Iteration 281, loss = 0.66207261\n",
      "Iteration 282, loss = 0.66090264\n",
      "Iteration 283, loss = 0.65968252\n",
      "Iteration 284, loss = 0.65940572\n",
      "Iteration 285, loss = 0.65774525\n",
      "Iteration 286, loss = 0.65596306\n",
      "Iteration 287, loss = 0.65379494\n",
      "Iteration 288, loss = 0.65298052\n",
      "Iteration 289, loss = 0.65112005\n",
      "Iteration 290, loss = 0.65127692\n",
      "Iteration 291, loss = 0.64954085\n",
      "Iteration 292, loss = 0.64721333\n",
      "Iteration 293, loss = 0.64587382\n",
      "Iteration 294, loss = 0.64506316\n",
      "Iteration 295, loss = 0.64305853\n",
      "Iteration 296, loss = 0.64275711\n",
      "Iteration 297, loss = 0.64180734\n",
      "Iteration 298, loss = 0.64085070\n",
      "Iteration 299, loss = 0.63830672\n",
      "Iteration 300, loss = 0.63740966\n",
      "Iteration 301, loss = 0.63578510\n",
      "Iteration 302, loss = 0.63409159\n",
      "Iteration 303, loss = 0.63369623\n",
      "Iteration 304, loss = 0.63261786\n",
      "Iteration 305, loss = 0.63166076\n",
      "Iteration 306, loss = 0.63030372\n",
      "Iteration 307, loss = 0.62947342\n",
      "Iteration 308, loss = 0.62800105\n",
      "Iteration 309, loss = 0.62657082\n",
      "Iteration 310, loss = 0.62492341\n",
      "Iteration 311, loss = 0.62367923\n",
      "Iteration 312, loss = 0.62371143\n",
      "Iteration 313, loss = 0.62182818\n",
      "Iteration 314, loss = 0.62058207\n",
      "Iteration 315, loss = 0.61999076\n",
      "Iteration 316, loss = 0.61845901\n",
      "Iteration 317, loss = 0.61763922\n",
      "Iteration 318, loss = 0.61641801\n",
      "Iteration 319, loss = 0.61534907\n",
      "Iteration 320, loss = 0.61403688\n",
      "Iteration 321, loss = 0.61260583\n",
      "Iteration 322, loss = 0.61256628\n",
      "Iteration 323, loss = 0.60993536\n",
      "Iteration 324, loss = 0.60939696\n",
      "Iteration 325, loss = 0.60921906\n",
      "Iteration 326, loss = 0.60647499\n",
      "Iteration 327, loss = 0.60612298\n",
      "Iteration 328, loss = 0.60513562\n",
      "Iteration 329, loss = 0.60424929\n",
      "Iteration 330, loss = 0.60336231\n",
      "Iteration 331, loss = 0.60228365\n",
      "Iteration 332, loss = 0.60133705\n",
      "Iteration 333, loss = 0.60010333\n",
      "Iteration 334, loss = 0.59929875\n",
      "Iteration 335, loss = 0.59837294\n",
      "Iteration 336, loss = 0.59635303\n",
      "Iteration 337, loss = 0.59631182\n",
      "Iteration 338, loss = 0.59406216\n",
      "Iteration 339, loss = 0.59509473\n",
      "Iteration 340, loss = 0.59384136\n",
      "Iteration 341, loss = 0.59081796\n",
      "Iteration 342, loss = 0.59073286\n",
      "Iteration 343, loss = 0.58983754\n",
      "Iteration 344, loss = 0.58947852\n",
      "Iteration 345, loss = 0.58704849\n",
      "Iteration 346, loss = 0.58732911\n",
      "Iteration 347, loss = 0.58620600\n",
      "Iteration 348, loss = 0.58525303\n",
      "Iteration 349, loss = 0.58440633\n",
      "Iteration 350, loss = 0.58351916\n",
      "Iteration 351, loss = 0.58315250\n",
      "Iteration 352, loss = 0.58199081\n",
      "Iteration 353, loss = 0.58134915\n",
      "Iteration 354, loss = 0.57972217\n",
      "Iteration 355, loss = 0.57976656\n",
      "Iteration 356, loss = 0.57817984\n",
      "Iteration 357, loss = 0.57685088\n",
      "Iteration 358, loss = 0.57548763\n",
      "Iteration 359, loss = 0.57431214\n",
      "Iteration 360, loss = 0.57471554\n",
      "Iteration 361, loss = 0.57434208\n",
      "Iteration 362, loss = 0.57235646\n",
      "Iteration 363, loss = 0.57241970\n",
      "Iteration 364, loss = 0.57026401\n",
      "Iteration 365, loss = 0.57079963\n",
      "Iteration 366, loss = 0.56909104\n",
      "Iteration 367, loss = 0.56883475\n",
      "Iteration 368, loss = 0.56721283\n",
      "Iteration 369, loss = 0.56574679\n",
      "Iteration 370, loss = 0.56464856\n",
      "Iteration 371, loss = 0.56375458\n",
      "Iteration 372, loss = 0.56376363\n",
      "Iteration 373, loss = 0.56268295\n",
      "Iteration 374, loss = 0.56264640\n",
      "Iteration 375, loss = 0.56152717\n",
      "Iteration 376, loss = 0.56063257\n",
      "Iteration 377, loss = 0.56034793\n",
      "Iteration 378, loss = 0.55894291\n",
      "Iteration 379, loss = 0.55856434\n",
      "Iteration 380, loss = 0.55788256\n",
      "Iteration 381, loss = 0.55720053\n",
      "Iteration 382, loss = 0.55600736\n",
      "Iteration 383, loss = 0.55449401\n",
      "Iteration 384, loss = 0.55407444\n",
      "Iteration 385, loss = 0.55264453\n",
      "Iteration 386, loss = 0.55336350\n",
      "Iteration 387, loss = 0.55160207\n",
      "Iteration 388, loss = 0.55070275\n",
      "Iteration 389, loss = 0.55049597\n",
      "Iteration 390, loss = 0.54912519\n",
      "Iteration 391, loss = 0.54890923\n",
      "Iteration 392, loss = 0.54812793\n",
      "Iteration 393, loss = 0.54813163\n",
      "Iteration 394, loss = 0.54634245\n",
      "Iteration 395, loss = 0.54562218\n",
      "Iteration 396, loss = 0.54476114\n",
      "Iteration 397, loss = 0.54513869\n",
      "Iteration 398, loss = 0.54380495\n",
      "Iteration 399, loss = 0.54247278\n",
      "Iteration 400, loss = 0.54217094\n",
      "Iteration 401, loss = 0.54096981\n",
      "Iteration 402, loss = 0.53958597\n",
      "Iteration 403, loss = 0.53981606\n",
      "Iteration 404, loss = 0.53896136\n",
      "Iteration 405, loss = 0.53830887\n",
      "Iteration 406, loss = 0.53738023\n",
      "Iteration 407, loss = 0.53728398\n",
      "Iteration 408, loss = 0.53667405\n",
      "Iteration 409, loss = 0.53492210\n",
      "Iteration 410, loss = 0.53477569\n",
      "Iteration 411, loss = 0.53544217\n",
      "Iteration 412, loss = 0.53414403\n",
      "Iteration 413, loss = 0.53264260\n",
      "Iteration 414, loss = 0.53309396\n",
      "Iteration 415, loss = 0.53104931\n",
      "Iteration 416, loss = 0.53098557\n",
      "Iteration 417, loss = 0.52990364\n",
      "Iteration 418, loss = 0.52926411\n",
      "Iteration 419, loss = 0.52813517\n",
      "Iteration 420, loss = 0.52852364\n",
      "Iteration 421, loss = 0.52655223\n",
      "Iteration 422, loss = 0.52617829\n",
      "Iteration 423, loss = 0.52606116\n",
      "Iteration 424, loss = 0.52568523\n",
      "Iteration 425, loss = 0.52438630\n",
      "Iteration 426, loss = 0.52429810\n",
      "Iteration 427, loss = 0.52346523\n",
      "Iteration 428, loss = 0.52346020\n",
      "Iteration 429, loss = 0.52159406\n",
      "Iteration 430, loss = 0.52140350\n",
      "Iteration 431, loss = 0.52223641\n",
      "Iteration 432, loss = 0.52075843\n",
      "Iteration 433, loss = 0.51886452\n",
      "Iteration 434, loss = 0.51968497\n",
      "Iteration 435, loss = 0.51810771\n",
      "Iteration 436, loss = 0.51824161\n",
      "Iteration 437, loss = 0.51817596\n",
      "Iteration 438, loss = 0.51698294\n",
      "Iteration 439, loss = 0.51613510\n",
      "Iteration 440, loss = 0.51546939\n",
      "Iteration 441, loss = 0.51467640\n",
      "Iteration 442, loss = 0.51401246\n",
      "Iteration 443, loss = 0.51429445\n",
      "Iteration 444, loss = 0.51295290\n",
      "Iteration 445, loss = 0.51200285\n",
      "Iteration 446, loss = 0.51203072\n",
      "Iteration 447, loss = 0.51178662\n",
      "Iteration 448, loss = 0.51073743\n",
      "Iteration 449, loss = 0.51071634\n",
      "Iteration 450, loss = 0.51033373\n",
      "Iteration 451, loss = 0.50824141\n",
      "Iteration 452, loss = 0.50874381\n",
      "Iteration 453, loss = 0.50793862\n",
      "Iteration 454, loss = 0.50682552\n",
      "Iteration 455, loss = 0.50771224\n",
      "Iteration 456, loss = 0.50657734\n",
      "Iteration 457, loss = 0.50538868\n",
      "Iteration 458, loss = 0.50560776\n",
      "Iteration 459, loss = 0.50475237\n",
      "Iteration 460, loss = 0.50471231\n",
      "Iteration 461, loss = 0.50295144\n",
      "Iteration 462, loss = 0.50199894\n",
      "Iteration 463, loss = 0.50262807\n",
      "Iteration 464, loss = 0.50199533\n",
      "Iteration 465, loss = 0.50227706\n",
      "Iteration 466, loss = 0.50066077\n",
      "Iteration 467, loss = 0.50027803\n",
      "Iteration 468, loss = 0.49910640\n",
      "Iteration 469, loss = 0.49904604\n",
      "Iteration 470, loss = 0.49848270\n",
      "Iteration 471, loss = 0.49703898\n",
      "Iteration 472, loss = 0.49805699\n",
      "Iteration 473, loss = 0.49730385\n",
      "Iteration 474, loss = 0.49649909\n",
      "Iteration 475, loss = 0.49489322\n",
      "Iteration 476, loss = 0.49603608\n",
      "Iteration 477, loss = 0.49446312\n",
      "Iteration 478, loss = 0.49382995\n",
      "Iteration 479, loss = 0.49399165\n",
      "Iteration 480, loss = 0.49364527\n",
      "Iteration 481, loss = 0.49296391\n",
      "Iteration 482, loss = 0.49210172\n",
      "Iteration 483, loss = 0.49172989\n",
      "Iteration 484, loss = 0.49140380\n",
      "Iteration 485, loss = 0.49043684\n",
      "Iteration 486, loss = 0.49103145\n",
      "Iteration 487, loss = 0.49039951\n",
      "Iteration 488, loss = 0.48906857\n",
      "Iteration 489, loss = 0.48910614\n",
      "Iteration 490, loss = 0.48844894\n",
      "Iteration 491, loss = 0.48788882\n",
      "Iteration 492, loss = 0.48748538\n",
      "Iteration 493, loss = 0.48755400\n",
      "Iteration 494, loss = 0.48618595\n",
      "Iteration 495, loss = 0.48610710\n",
      "Iteration 496, loss = 0.48435650\n",
      "Iteration 497, loss = 0.48430379\n",
      "Iteration 498, loss = 0.48468630\n",
      "Iteration 499, loss = 0.48464854\n",
      "Iteration 500, loss = 0.48375036\n",
      "Iteration 501, loss = 0.48245456\n",
      "Iteration 502, loss = 0.48278902\n",
      "Iteration 503, loss = 0.48197616\n",
      "Iteration 504, loss = 0.48152414\n",
      "Iteration 505, loss = 0.48097663\n",
      "Iteration 506, loss = 0.47986872\n",
      "Iteration 507, loss = 0.48019012\n",
      "Iteration 508, loss = 0.48049169\n",
      "Iteration 509, loss = 0.47843970\n",
      "Iteration 510, loss = 0.47869862\n",
      "Iteration 511, loss = 0.47832837\n",
      "Iteration 512, loss = 0.47796767\n",
      "Iteration 513, loss = 0.47718423\n",
      "Iteration 514, loss = 0.47769820\n",
      "Iteration 515, loss = 0.47610505\n",
      "Iteration 516, loss = 0.47579279\n",
      "Iteration 517, loss = 0.47622053\n",
      "Iteration 518, loss = 0.47523742\n",
      "Iteration 519, loss = 0.47454658\n",
      "Iteration 520, loss = 0.47506622\n",
      "Iteration 521, loss = 0.47367888\n",
      "Iteration 522, loss = 0.47333967\n",
      "Iteration 523, loss = 0.47273979\n",
      "Iteration 524, loss = 0.47393407\n",
      "Iteration 525, loss = 0.47223132\n",
      "Iteration 526, loss = 0.47117799\n",
      "Iteration 527, loss = 0.47144346\n",
      "Iteration 528, loss = 0.47090698\n",
      "Iteration 529, loss = 0.47100133\n",
      "Iteration 530, loss = 0.47024955\n",
      "Iteration 531, loss = 0.46995133\n",
      "Iteration 532, loss = 0.46924320\n",
      "Iteration 533, loss = 0.46885984\n",
      "Iteration 534, loss = 0.46847053\n",
      "Iteration 535, loss = 0.46782221\n",
      "Iteration 536, loss = 0.46736266\n",
      "Iteration 537, loss = 0.46791909\n",
      "Iteration 538, loss = 0.46664777\n",
      "Iteration 539, loss = 0.46683047\n",
      "Iteration 540, loss = 0.46677268\n",
      "Iteration 541, loss = 0.46569598\n",
      "Iteration 542, loss = 0.46430307\n",
      "Iteration 543, loss = 0.46473284\n",
      "Iteration 544, loss = 0.46455207\n",
      "Iteration 545, loss = 0.46389378\n",
      "Iteration 546, loss = 0.46401328\n",
      "Iteration 547, loss = 0.46214073\n",
      "Iteration 548, loss = 0.46259506\n",
      "Iteration 549, loss = 0.46171425\n",
      "Iteration 550, loss = 0.46130914\n",
      "Iteration 551, loss = 0.46176928\n",
      "Iteration 552, loss = 0.46049130\n",
      "Iteration 553, loss = 0.46005630\n",
      "Iteration 554, loss = 0.46040412\n",
      "Iteration 555, loss = 0.46035704\n",
      "Iteration 556, loss = 0.45963936\n",
      "Iteration 557, loss = 0.45868448\n",
      "Iteration 558, loss = 0.45876297\n",
      "Iteration 559, loss = 0.45810654\n",
      "Iteration 560, loss = 0.45817087\n",
      "Iteration 561, loss = 0.45722396\n",
      "Iteration 562, loss = 0.45718073\n",
      "Iteration 563, loss = 0.45714763\n",
      "Iteration 564, loss = 0.45629761\n",
      "Iteration 565, loss = 0.45583653\n",
      "Iteration 566, loss = 0.45452877\n",
      "Iteration 567, loss = 0.45523435\n",
      "Iteration 568, loss = 0.45478033\n",
      "Iteration 569, loss = 0.45393536\n",
      "Iteration 570, loss = 0.45421130\n",
      "Iteration 571, loss = 0.45344551\n",
      "Iteration 572, loss = 0.45310402\n",
      "Iteration 573, loss = 0.45264257\n",
      "Iteration 574, loss = 0.45221169\n",
      "Iteration 575, loss = 0.45142236\n",
      "Iteration 576, loss = 0.45162688\n",
      "Iteration 577, loss = 0.45143930\n",
      "Iteration 578, loss = 0.45102679\n",
      "Iteration 579, loss = 0.45048598\n",
      "Iteration 580, loss = 0.45102513\n",
      "Iteration 581, loss = 0.45056672\n",
      "Iteration 582, loss = 0.45010233\n",
      "Iteration 583, loss = 0.44877732\n",
      "Iteration 584, loss = 0.44858587\n",
      "Iteration 585, loss = 0.44916973\n",
      "Iteration 586, loss = 0.44861209\n",
      "Iteration 587, loss = 0.44775271\n",
      "Iteration 588, loss = 0.44791428\n",
      "Iteration 589, loss = 0.44721109\n",
      "Iteration 590, loss = 0.44732633\n",
      "Iteration 591, loss = 0.44779396\n",
      "Iteration 592, loss = 0.44603517\n",
      "Iteration 593, loss = 0.44623125\n",
      "Iteration 594, loss = 0.44546073\n",
      "Iteration 595, loss = 0.44489410\n",
      "Iteration 596, loss = 0.44439539\n",
      "Iteration 597, loss = 0.44513524\n",
      "Iteration 598, loss = 0.44464796\n",
      "Iteration 599, loss = 0.44409905\n",
      "Iteration 600, loss = 0.44394955\n",
      "Iteration 601, loss = 0.44205223\n",
      "Iteration 602, loss = 0.44293533\n",
      "Iteration 603, loss = 0.44259610\n",
      "Iteration 604, loss = 0.44249512\n",
      "Iteration 605, loss = 0.44210750\n",
      "Iteration 606, loss = 0.44077496\n",
      "Iteration 607, loss = 0.44164975\n",
      "Iteration 608, loss = 0.44090341\n",
      "Iteration 609, loss = 0.44038406\n",
      "Iteration 610, loss = 0.44055759\n",
      "Iteration 611, loss = 0.43973135\n",
      "Iteration 612, loss = 0.43889949\n",
      "Iteration 613, loss = 0.43964882\n",
      "Iteration 614, loss = 0.43913906\n",
      "Iteration 615, loss = 0.43880319\n",
      "Iteration 616, loss = 0.43797916\n",
      "Iteration 617, loss = 0.43837108\n",
      "Iteration 618, loss = 0.43746927\n",
      "Iteration 619, loss = 0.43702538\n",
      "Iteration 620, loss = 0.43692992\n",
      "Iteration 621, loss = 0.43719814\n",
      "Iteration 622, loss = 0.43803308\n",
      "Iteration 623, loss = 0.43584121\n",
      "Iteration 624, loss = 0.43522459\n",
      "Iteration 625, loss = 0.43501282\n",
      "Iteration 626, loss = 0.43548087\n",
      "Iteration 627, loss = 0.43427198\n",
      "Iteration 628, loss = 0.43522607\n",
      "Iteration 629, loss = 0.43469551\n",
      "Iteration 630, loss = 0.43482766\n",
      "Iteration 631, loss = 0.43322589\n",
      "Iteration 632, loss = 0.43380056\n",
      "Iteration 633, loss = 0.43262261\n",
      "Iteration 634, loss = 0.43268089\n",
      "Iteration 635, loss = 0.43220106\n",
      "Iteration 636, loss = 0.43162208\n",
      "Iteration 637, loss = 0.43161288\n",
      "Iteration 638, loss = 0.43084365\n",
      "Iteration 639, loss = 0.43127723\n",
      "Iteration 640, loss = 0.43094207\n",
      "Iteration 641, loss = 0.43096271\n",
      "Iteration 642, loss = 0.42972089\n",
      "Iteration 643, loss = 0.42992641\n",
      "Iteration 644, loss = 0.42929006\n",
      "Iteration 645, loss = 0.42891397\n",
      "Iteration 646, loss = 0.42890888\n",
      "Iteration 647, loss = 0.42894441\n",
      "Iteration 648, loss = 0.42945401\n",
      "Iteration 649, loss = 0.42802055\n",
      "Iteration 650, loss = 0.42855852\n",
      "Iteration 651, loss = 0.42806100\n",
      "Iteration 652, loss = 0.42656432\n",
      "Iteration 653, loss = 0.42651611\n",
      "Iteration 654, loss = 0.42713330\n",
      "Iteration 655, loss = 0.42661231\n",
      "Iteration 656, loss = 0.42665673\n",
      "Iteration 657, loss = 0.42609876\n",
      "Iteration 658, loss = 0.42586703\n",
      "Iteration 659, loss = 0.42549062\n",
      "Iteration 660, loss = 0.42603135\n",
      "Iteration 661, loss = 0.42540724\n",
      "Iteration 662, loss = 0.42445863\n",
      "Iteration 663, loss = 0.42415393\n",
      "Iteration 664, loss = 0.42323826\n",
      "Iteration 665, loss = 0.42516645\n",
      "Iteration 666, loss = 0.42350149\n",
      "Iteration 667, loss = 0.42327620\n",
      "Iteration 668, loss = 0.42246543\n",
      "Iteration 669, loss = 0.42307989\n",
      "Iteration 670, loss = 0.42378912\n",
      "Iteration 671, loss = 0.42216960\n",
      "Iteration 672, loss = 0.42120202\n",
      "Iteration 673, loss = 0.42140043\n",
      "Iteration 674, loss = 0.42103117\n",
      "Iteration 675, loss = 0.42033359\n",
      "Iteration 676, loss = 0.42080864\n",
      "Iteration 677, loss = 0.41999408\n",
      "Iteration 678, loss = 0.42064094\n",
      "Iteration 679, loss = 0.42026480\n",
      "Iteration 680, loss = 0.42020634\n",
      "Iteration 681, loss = 0.41914704\n",
      "Iteration 682, loss = 0.41894003\n",
      "Iteration 683, loss = 0.41899676\n",
      "Iteration 684, loss = 0.41897707\n",
      "Iteration 685, loss = 0.41866789\n",
      "Iteration 686, loss = 0.41755700\n",
      "Iteration 687, loss = 0.41753543\n",
      "Iteration 688, loss = 0.41825010\n",
      "Iteration 689, loss = 0.41669178\n",
      "Iteration 690, loss = 0.41752190\n",
      "Iteration 691, loss = 0.41709986\n",
      "Iteration 692, loss = 0.41566930\n",
      "Iteration 693, loss = 0.41547413\n",
      "Iteration 694, loss = 0.41584517\n",
      "Iteration 695, loss = 0.41513211\n",
      "Iteration 696, loss = 0.41541373\n",
      "Iteration 697, loss = 0.41524757\n",
      "Iteration 698, loss = 0.41561427\n",
      "Iteration 699, loss = 0.41413194\n",
      "Iteration 700, loss = 0.41474510\n",
      "Iteration 701, loss = 0.41371205\n",
      "Iteration 702, loss = 0.41426344\n",
      "Iteration 703, loss = 0.41445586\n",
      "Iteration 704, loss = 0.41300024\n",
      "Iteration 705, loss = 0.41280831\n",
      "Iteration 706, loss = 0.41277450\n",
      "Iteration 707, loss = 0.41313010\n",
      "Iteration 708, loss = 0.41231968\n",
      "Iteration 709, loss = 0.41230673\n",
      "Iteration 710, loss = 0.41148133\n",
      "Iteration 711, loss = 0.41178423\n",
      "Iteration 712, loss = 0.41092125\n",
      "Iteration 713, loss = 0.41030772\n",
      "Iteration 714, loss = 0.41137657\n",
      "Iteration 715, loss = 0.41027660\n",
      "Iteration 716, loss = 0.41087131\n",
      "Iteration 717, loss = 0.41011718\n",
      "Iteration 718, loss = 0.40985292\n",
      "Iteration 719, loss = 0.40996573\n",
      "Iteration 720, loss = 0.40873686\n",
      "Iteration 721, loss = 0.40863047\n",
      "Iteration 722, loss = 0.40916842\n",
      "Iteration 723, loss = 0.40944111\n",
      "Iteration 724, loss = 0.40807849\n",
      "Iteration 725, loss = 0.40899923\n",
      "Iteration 726, loss = 0.40763231\n",
      "Iteration 727, loss = 0.40871734\n",
      "Iteration 728, loss = 0.40768404\n",
      "Iteration 729, loss = 0.40743622\n",
      "Iteration 730, loss = 0.40716734\n",
      "Iteration 731, loss = 0.40610988\n",
      "Iteration 732, loss = 0.40631873\n",
      "Iteration 733, loss = 0.40652523\n",
      "Iteration 734, loss = 0.40687979\n",
      "Iteration 735, loss = 0.40547953\n",
      "Iteration 736, loss = 0.40528477\n",
      "Iteration 737, loss = 0.40521361\n",
      "Iteration 738, loss = 0.40473815\n",
      "Iteration 739, loss = 0.40487739\n",
      "Iteration 740, loss = 0.40500850\n",
      "Iteration 741, loss = 0.40396315\n",
      "Iteration 742, loss = 0.40365294\n",
      "Iteration 743, loss = 0.40446794\n",
      "Iteration 744, loss = 0.40429791\n",
      "Iteration 745, loss = 0.40445200\n",
      "Iteration 746, loss = 0.40327491\n",
      "Iteration 747, loss = 0.40379687\n",
      "Iteration 748, loss = 0.40255771\n",
      "Iteration 749, loss = 0.40302542\n",
      "Iteration 750, loss = 0.40174268\n",
      "Iteration 751, loss = 0.40163131\n",
      "Iteration 752, loss = 0.40101767\n",
      "Iteration 753, loss = 0.40241220\n",
      "Iteration 754, loss = 0.40154970\n",
      "Iteration 755, loss = 0.40093100\n",
      "Iteration 756, loss = 0.40075630\n",
      "Iteration 757, loss = 0.40033769\n",
      "Iteration 758, loss = 0.40005547\n",
      "Iteration 759, loss = 0.40026799\n",
      "Iteration 760, loss = 0.40025305\n",
      "Iteration 761, loss = 0.39945920\n",
      "Iteration 762, loss = 0.40021189\n",
      "Iteration 763, loss = 0.39911022\n",
      "Iteration 764, loss = 0.39943996\n",
      "Iteration 765, loss = 0.39793835\n",
      "Iteration 766, loss = 0.39857705\n",
      "Iteration 767, loss = 0.39842173\n",
      "Iteration 768, loss = 0.39864767\n",
      "Iteration 769, loss = 0.39846742\n",
      "Iteration 770, loss = 0.39775545\n",
      "Iteration 771, loss = 0.39764423\n",
      "Iteration 772, loss = 0.39650022\n",
      "Iteration 773, loss = 0.39688567\n",
      "Iteration 774, loss = 0.39666414\n",
      "Iteration 775, loss = 0.39726632\n",
      "Iteration 776, loss = 0.39674398\n",
      "Iteration 777, loss = 0.39637619\n",
      "Iteration 778, loss = 0.39618479\n",
      "Iteration 779, loss = 0.39588199\n",
      "Iteration 780, loss = 0.39557790\n",
      "Iteration 781, loss = 0.39527629\n",
      "Iteration 782, loss = 0.39474692\n",
      "Iteration 783, loss = 0.39502476\n",
      "Iteration 784, loss = 0.39499179\n",
      "Iteration 785, loss = 0.39482651\n",
      "Iteration 786, loss = 0.39458950\n",
      "Iteration 787, loss = 0.39503022\n",
      "Iteration 788, loss = 0.39361827\n",
      "Iteration 789, loss = 0.39385523\n",
      "Iteration 790, loss = 0.39285614\n",
      "Iteration 791, loss = 0.39375272\n",
      "Iteration 792, loss = 0.39330757\n",
      "Iteration 793, loss = 0.39218561\n",
      "Iteration 794, loss = 0.39315660\n",
      "Iteration 795, loss = 0.39283719\n",
      "Iteration 796, loss = 0.39209134\n",
      "Iteration 797, loss = 0.39243276\n",
      "Iteration 798, loss = 0.39141383\n",
      "Iteration 799, loss = 0.39094517\n",
      "Iteration 800, loss = 0.39187774\n",
      "Iteration 801, loss = 0.39166525\n",
      "Iteration 802, loss = 0.39083664\n",
      "Iteration 803, loss = 0.39073027\n",
      "Iteration 804, loss = 0.39145582\n",
      "Iteration 805, loss = 0.39059807\n",
      "Iteration 806, loss = 0.39122011\n",
      "Iteration 807, loss = 0.38954736\n",
      "Iteration 808, loss = 0.38980006\n",
      "Iteration 809, loss = 0.38950778\n",
      "Iteration 810, loss = 0.38948796\n",
      "Iteration 811, loss = 0.38900697\n",
      "Iteration 812, loss = 0.38898657\n",
      "Iteration 813, loss = 0.38900836\n",
      "Iteration 814, loss = 0.38826686\n",
      "Iteration 815, loss = 0.38880017\n",
      "Iteration 816, loss = 0.38831217\n",
      "Iteration 817, loss = 0.38766366\n",
      "Iteration 818, loss = 0.38854162\n",
      "Iteration 819, loss = 0.38771338\n",
      "Iteration 820, loss = 0.38803927\n",
      "Iteration 821, loss = 0.38801106\n",
      "Iteration 822, loss = 0.38641783\n",
      "Iteration 823, loss = 0.38782501\n",
      "Iteration 824, loss = 0.38653925\n",
      "Iteration 825, loss = 0.38605678\n",
      "Iteration 826, loss = 0.38603565\n",
      "Iteration 827, loss = 0.38639573\n",
      "Iteration 828, loss = 0.38598479\n",
      "Iteration 829, loss = 0.38547796\n",
      "Iteration 830, loss = 0.38454772\n",
      "Iteration 831, loss = 0.38566840\n",
      "Iteration 832, loss = 0.38435778\n",
      "Iteration 833, loss = 0.38519439\n",
      "Iteration 834, loss = 0.38507351\n",
      "Iteration 835, loss = 0.38493930\n",
      "Iteration 836, loss = 0.38461751\n",
      "Iteration 837, loss = 0.38414945\n",
      "Iteration 838, loss = 0.38462543\n",
      "Iteration 839, loss = 0.38361670\n",
      "Iteration 840, loss = 0.38403902\n",
      "Iteration 841, loss = 0.38443810\n",
      "Iteration 842, loss = 0.38340347\n",
      "Iteration 843, loss = 0.38307350\n",
      "Iteration 844, loss = 0.38198729\n",
      "Iteration 845, loss = 0.38183135\n",
      "Iteration 846, loss = 0.38237353\n",
      "Iteration 847, loss = 0.38217059\n",
      "Iteration 848, loss = 0.38191213\n",
      "Iteration 849, loss = 0.38179039\n",
      "Iteration 850, loss = 0.38121118\n",
      "Iteration 851, loss = 0.38225979\n",
      "Iteration 852, loss = 0.38090863\n",
      "Iteration 853, loss = 0.38129280\n",
      "Iteration 854, loss = 0.38063963\n",
      "Iteration 855, loss = 0.38002506\n",
      "Iteration 856, loss = 0.38091811\n",
      "Iteration 857, loss = 0.37993351\n",
      "Iteration 858, loss = 0.38025055\n",
      "Iteration 859, loss = 0.37959667\n",
      "Iteration 860, loss = 0.38006701\n",
      "Iteration 861, loss = 0.38006772\n",
      "Iteration 862, loss = 0.37876917\n",
      "Iteration 863, loss = 0.37908790\n",
      "Iteration 864, loss = 0.37874036\n",
      "Iteration 865, loss = 0.37862846\n",
      "Iteration 866, loss = 0.37845054\n",
      "Iteration 867, loss = 0.37859379\n",
      "Iteration 868, loss = 0.37971360\n",
      "Iteration 869, loss = 0.37777890\n",
      "Iteration 870, loss = 0.37801955\n",
      "Iteration 871, loss = 0.37743705\n",
      "Iteration 872, loss = 0.37767567\n",
      "Iteration 873, loss = 0.37685065\n",
      "Iteration 874, loss = 0.37645568\n",
      "Iteration 875, loss = 0.37675123\n",
      "Iteration 876, loss = 0.37621394\n",
      "Iteration 877, loss = 0.37648753\n",
      "Iteration 878, loss = 0.37680508\n",
      "Iteration 879, loss = 0.37620998\n",
      "Iteration 880, loss = 0.37649360\n",
      "Iteration 881, loss = 0.37531785\n",
      "Iteration 882, loss = 0.37536451\n",
      "Iteration 883, loss = 0.37618894\n",
      "Iteration 884, loss = 0.37590619\n",
      "Iteration 885, loss = 0.37526022\n",
      "Iteration 886, loss = 0.37493774\n",
      "Iteration 887, loss = 0.37478040\n",
      "Iteration 888, loss = 0.37537502\n",
      "Iteration 889, loss = 0.37406211\n",
      "Iteration 890, loss = 0.37542938\n",
      "Iteration 891, loss = 0.37451497\n",
      "Iteration 892, loss = 0.37464773\n",
      "Iteration 893, loss = 0.37407240\n",
      "Iteration 894, loss = 0.37305472\n",
      "Iteration 895, loss = 0.37341419\n",
      "Iteration 896, loss = 0.37367564\n",
      "Iteration 897, loss = 0.37336022\n",
      "Iteration 898, loss = 0.37345636\n",
      "Iteration 899, loss = 0.37190478\n",
      "Iteration 900, loss = 0.37309817\n",
      "Iteration 901, loss = 0.37216311\n",
      "Iteration 902, loss = 0.37246179\n",
      "Iteration 903, loss = 0.37183286\n",
      "Iteration 904, loss = 0.37202988\n",
      "Iteration 905, loss = 0.37116963\n",
      "Iteration 906, loss = 0.37076337\n",
      "Iteration 907, loss = 0.37229588\n",
      "Iteration 908, loss = 0.37199343\n",
      "Iteration 909, loss = 0.37120252\n",
      "Iteration 910, loss = 0.37139986\n",
      "Iteration 911, loss = 0.36995371\n",
      "Iteration 912, loss = 0.36978399\n",
      "Iteration 913, loss = 0.37038838\n",
      "Iteration 914, loss = 0.37080496\n",
      "Iteration 915, loss = 0.36983478\n",
      "Iteration 916, loss = 0.36994281\n",
      "Iteration 917, loss = 0.36938171\n",
      "Iteration 918, loss = 0.36931269\n",
      "Iteration 919, loss = 0.36928208\n",
      "Iteration 920, loss = 0.36911551\n",
      "Iteration 921, loss = 0.36965371\n",
      "Iteration 922, loss = 0.36974511\n",
      "Iteration 923, loss = 0.36857929\n",
      "Iteration 924, loss = 0.36848699\n",
      "Iteration 925, loss = 0.36719884\n",
      "Iteration 926, loss = 0.36806212\n",
      "Iteration 927, loss = 0.36764322\n",
      "Iteration 928, loss = 0.36730655\n",
      "Iteration 929, loss = 0.36752915\n",
      "Iteration 930, loss = 0.36767844\n",
      "Iteration 931, loss = 0.36688266\n",
      "Iteration 932, loss = 0.36733074\n",
      "Iteration 933, loss = 0.36721987\n",
      "Iteration 934, loss = 0.36662048\n",
      "Iteration 935, loss = 0.36677286\n",
      "Iteration 936, loss = 0.36574742\n",
      "Iteration 937, loss = 0.36712645\n",
      "Iteration 938, loss = 0.36660060\n",
      "Iteration 939, loss = 0.36636703\n",
      "Iteration 940, loss = 0.36565460\n",
      "Iteration 941, loss = 0.36516731\n",
      "Iteration 942, loss = 0.36614153\n",
      "Iteration 943, loss = 0.36462516\n",
      "Iteration 944, loss = 0.36464888\n",
      "Iteration 945, loss = 0.36505714\n",
      "Iteration 946, loss = 0.36518557\n",
      "Iteration 947, loss = 0.36491722\n",
      "Iteration 948, loss = 0.36356530\n",
      "Iteration 949, loss = 0.36382908\n",
      "Iteration 950, loss = 0.36358208\n",
      "Iteration 951, loss = 0.36390637\n",
      "Iteration 952, loss = 0.36426896\n",
      "Iteration 953, loss = 0.36341342\n",
      "Iteration 954, loss = 0.36403829\n",
      "Iteration 955, loss = 0.36376656\n",
      "Iteration 956, loss = 0.36260914\n",
      "Iteration 957, loss = 0.36324492\n",
      "Iteration 958, loss = 0.36321229\n",
      "Iteration 959, loss = 0.36295432\n",
      "Iteration 960, loss = 0.36166812\n",
      "Iteration 961, loss = 0.36256265\n",
      "Iteration 962, loss = 0.36225794\n",
      "Iteration 963, loss = 0.36268338\n",
      "Iteration 964, loss = 0.36148305\n",
      "Iteration 965, loss = 0.36159197\n",
      "Iteration 966, loss = 0.36170878\n",
      "Iteration 967, loss = 0.36280750\n",
      "Iteration 968, loss = 0.36078123\n",
      "Iteration 969, loss = 0.36154161\n",
      "Iteration 970, loss = 0.36083660\n",
      "Iteration 971, loss = 0.36048577\n",
      "Iteration 972, loss = 0.36046652\n",
      "Iteration 973, loss = 0.36048043\n",
      "Iteration 974, loss = 0.36005603\n",
      "Iteration 975, loss = 0.36047030\n",
      "Iteration 976, loss = 0.36061402\n",
      "Iteration 977, loss = 0.36050456\n",
      "Iteration 978, loss = 0.36045468\n",
      "Iteration 979, loss = 0.35954069\n",
      "Iteration 980, loss = 0.35912531\n",
      "Iteration 981, loss = 0.35910376\n",
      "Iteration 982, loss = 0.35921414\n",
      "Iteration 983, loss = 0.35894258\n",
      "Iteration 984, loss = 0.35780159\n",
      "Iteration 985, loss = 0.35938751\n",
      "Iteration 986, loss = 0.35865867\n",
      "Iteration 987, loss = 0.35860458\n",
      "Iteration 988, loss = 0.35893014\n",
      "Iteration 989, loss = 0.35817332\n",
      "Iteration 990, loss = 0.35763469\n",
      "Iteration 991, loss = 0.35765355\n",
      "Iteration 992, loss = 0.35762862\n",
      "Iteration 993, loss = 0.35751362\n",
      "Iteration 994, loss = 0.35703935\n",
      "Iteration 995, loss = 0.35702721\n",
      "Iteration 996, loss = 0.35793925\n",
      "Iteration 997, loss = 0.35677143\n",
      "Iteration 998, loss = 0.35691670\n",
      "Iteration 999, loss = 0.35689513\n",
      "Iteration 1000, loss = 0.35635509\n"
     ]
    },
    {
     "name": "stderr",
     "output_type": "stream",
     "text": [
      "C:\\Users\\Charles K\\AppData\\Local\\Programs\\Python\\Python311\\Lib\\site-packages\\sklearn\\neural_network\\_multilayer_perceptron.py:691: ConvergenceWarning: Stochastic Optimizer: Maximum iterations (1000) reached and the optimization hasn't converged yet.\n",
      "  warnings.warn(\n"
     ]
    },
    {
     "name": "stdout",
     "output_type": "stream",
     "text": [
      "Training set score: 0.8969975490196078\n",
      "Test set score: 0.8254901960784313\n"
     ]
    }
   ],
   "source": [
    "mlp = MLPClassifier(random_state=42, max_iter=1000, verbose=1)\n",
    "mlp.fit(X_train, y_train)\n",
    "mlp.predict(X_test)\n",
    "\n",
    "print(f\"Training set score: {mlp.score(X_train, y_train)}\")\n",
    "print(f\"Test set score: {mlp.score(X_test, y_test)}\")"
   ],
   "metadata": {
    "collapsed": false,
    "ExecuteTime": {
     "end_time": "2024-01-08T18:44:17.669326600Z",
     "start_time": "2024-01-08T18:38:56.810289600Z"
    }
   },
   "id": "a084a810eb97a10f",
   "execution_count": 17
  },
  {
   "cell_type": "markdown",
   "source": [
    "From the results above, we can say that the models that performed better were the Random Forest Classifier and the Multi-Layer Perceptron. Those models are capable of learning complex patterns in the data, so they are able to learn the keystroke dynamics of each user.\n",
    "We can even test a deep neural network to see if it performs better than the MLP."
   ],
   "metadata": {
    "collapsed": false
   },
   "id": "7b6990af8c596ba7"
  },
  {
   "cell_type": "markdown",
   "source": [
    "### Deep Neural Network"
   ],
   "metadata": {
    "collapsed": false
   },
   "id": "85d5e10288ace5ba"
  },
  {
   "cell_type": "code",
   "outputs": [],
   "source": [
    "from tensorflow import keras\n",
    "from tensorflow.keras import layers\n",
    "import matplotlib.pyplot as plt"
   ],
   "metadata": {
    "collapsed": false,
    "ExecuteTime": {
     "end_time": "2024-01-08T18:53:13.811610Z",
     "start_time": "2024-01-08T18:53:01.576306500Z"
    }
   },
   "id": "e844bc463d03320c",
   "execution_count": 18
  },
  {
   "cell_type": "code",
   "outputs": [],
   "source": [
    "# Define the architechture of the model\n",
    "def build_model():\n",
    "    model = keras.Sequential([\n",
    "        layers.Dense(64, activation='relu', kernel_initializer='he_normal', input_shape=[X_train.shape[1]]),\n",
    "        layers.Dense(64, activation='relu', kernel_initializer='he_normal'),\n",
    "        layers.Dense(y_train.shape[1], activation='softmax')\n",
    "    ])\n",
    "    \n",
    "    optimizer = keras.optimizers.Adam(0.001)\n",
    "    loss = keras.losses.CategoricalCrossentropy()\n",
    "    model.compile(optimizer=optimizer, loss=loss, metrics=['accuracy'])\n",
    "    return model"
   ],
   "metadata": {
    "collapsed": false,
    "ExecuteTime": {
     "end_time": "2024-01-08T19:11:56.348960300Z",
     "start_time": "2024-01-08T19:11:56.303048500Z"
    }
   },
   "id": "dfea4a2e8cd2156c",
   "execution_count": 73
  },
  {
   "cell_type": "code",
   "outputs": [
    {
     "name": "stdout",
     "output_type": "stream",
     "text": [
      "Model: \"sequential_10\"\n",
      "_________________________________________________________________\n",
      " Layer (type)                Output Shape              Param #   \n",
      "=================================================================\n",
      " dense_33 (Dense)            (None, 64)                2048      \n",
      "                                                                 \n",
      " dense_34 (Dense)            (None, 64)                4160      \n",
      "                                                                 \n",
      " dense_35 (Dense)            (None, 51)                3315      \n",
      "                                                                 \n",
      "=================================================================\n",
      "Total params: 9523 (37.20 KB)\n",
      "Trainable params: 9523 (37.20 KB)\n",
      "Non-trainable params: 0 (0.00 Byte)\n",
      "_________________________________________________________________\n"
     ]
    }
   ],
   "source": [
    "# Build the model\n",
    "model = build_model()\n",
    "\n",
    "# Model summary\n",
    "model.summary()"
   ],
   "metadata": {
    "collapsed": false,
    "ExecuteTime": {
     "end_time": "2024-01-08T19:11:56.913548100Z",
     "start_time": "2024-01-08T19:11:56.770676700Z"
    }
   },
   "id": "da7c3f05e7a056cb",
   "execution_count": 74
  },
  {
   "cell_type": "code",
   "outputs": [
    {
     "name": "stdout",
     "output_type": "stream",
     "text": [
      "Epoch 1/50\n",
      "510/510 [==============================] - 3s 4ms/step - loss: 3.2706 - accuracy: 0.2132 - val_loss: 2.6341 - val_accuracy: 0.4206\n",
      "Epoch 2/50\n",
      "510/510 [==============================] - 1s 3ms/step - loss: 2.2734 - accuracy: 0.5047 - val_loss: 1.9898 - val_accuracy: 0.5480\n",
      "Epoch 3/50\n",
      "510/510 [==============================] - 2s 3ms/step - loss: 1.7773 - accuracy: 0.6081 - val_loss: 1.6045 - val_accuracy: 0.6392\n",
      "Epoch 4/50\n",
      "510/510 [==============================] - 1s 3ms/step - loss: 1.4437 - accuracy: 0.6801 - val_loss: 1.3253 - val_accuracy: 0.7078\n",
      "Epoch 5/50\n",
      "510/510 [==============================] - 1s 2ms/step - loss: 1.2149 - accuracy: 0.7287 - val_loss: 1.1531 - val_accuracy: 0.7439\n",
      "Epoch 6/50\n",
      "510/510 [==============================] - 1s 3ms/step - loss: 1.0560 - accuracy: 0.7577 - val_loss: 1.0222 - val_accuracy: 0.7733\n",
      "Epoch 7/50\n",
      "510/510 [==============================] - 1s 2ms/step - loss: 0.9409 - accuracy: 0.7772 - val_loss: 0.9200 - val_accuracy: 0.7909\n",
      "Epoch 8/50\n",
      "510/510 [==============================] - 1s 3ms/step - loss: 0.8520 - accuracy: 0.7946 - val_loss: 0.8582 - val_accuracy: 0.7993\n",
      "Epoch 9/50\n",
      "510/510 [==============================] - 1s 3ms/step - loss: 0.7781 - accuracy: 0.8086 - val_loss: 0.7883 - val_accuracy: 0.8157\n",
      "Epoch 10/50\n",
      "510/510 [==============================] - 2s 4ms/step - loss: 0.7209 - accuracy: 0.8199 - val_loss: 0.7616 - val_accuracy: 0.8206\n",
      "Epoch 11/50\n",
      "510/510 [==============================] - 2s 4ms/step - loss: 0.6724 - accuracy: 0.8286 - val_loss: 0.7095 - val_accuracy: 0.8301\n",
      "Epoch 12/50\n",
      "510/510 [==============================] - 1s 2ms/step - loss: 0.6308 - accuracy: 0.8361 - val_loss: 0.6773 - val_accuracy: 0.8343\n",
      "Epoch 13/50\n",
      "510/510 [==============================] - 1s 2ms/step - loss: 0.5948 - accuracy: 0.8411 - val_loss: 0.6435 - val_accuracy: 0.8434\n",
      "Epoch 14/50\n",
      "510/510 [==============================] - 1s 2ms/step - loss: 0.5644 - accuracy: 0.8496 - val_loss: 0.6158 - val_accuracy: 0.8488\n",
      "Epoch 15/50\n",
      "510/510 [==============================] - 1s 2ms/step - loss: 0.5372 - accuracy: 0.8540 - val_loss: 0.6067 - val_accuracy: 0.8449\n",
      "Epoch 16/50\n",
      "510/510 [==============================] - 1s 3ms/step - loss: 0.5159 - accuracy: 0.8574 - val_loss: 0.5998 - val_accuracy: 0.8446\n",
      "Epoch 17/50\n",
      "510/510 [==============================] - 1s 2ms/step - loss: 0.4947 - accuracy: 0.8657 - val_loss: 0.5561 - val_accuracy: 0.8623\n",
      "Epoch 18/50\n",
      "510/510 [==============================] - 1s 3ms/step - loss: 0.4731 - accuracy: 0.8704 - val_loss: 0.5415 - val_accuracy: 0.8659\n",
      "Epoch 19/50\n",
      "510/510 [==============================] - 1s 2ms/step - loss: 0.4579 - accuracy: 0.8732 - val_loss: 0.5345 - val_accuracy: 0.8669\n",
      "Epoch 20/50\n",
      "510/510 [==============================] - 1s 2ms/step - loss: 0.4435 - accuracy: 0.8738 - val_loss: 0.5085 - val_accuracy: 0.8691\n",
      "Epoch 21/50\n",
      "510/510 [==============================] - 1s 3ms/step - loss: 0.4271 - accuracy: 0.8816 - val_loss: 0.5259 - val_accuracy: 0.8674\n",
      "Epoch 22/50\n",
      "510/510 [==============================] - 1s 2ms/step - loss: 0.4131 - accuracy: 0.8825 - val_loss: 0.4873 - val_accuracy: 0.8775\n",
      "Epoch 23/50\n",
      "510/510 [==============================] - 1s 3ms/step - loss: 0.4002 - accuracy: 0.8873 - val_loss: 0.4770 - val_accuracy: 0.8745\n",
      "Epoch 24/50\n",
      "510/510 [==============================] - 1s 3ms/step - loss: 0.3872 - accuracy: 0.8887 - val_loss: 0.4657 - val_accuracy: 0.8779\n",
      "Epoch 25/50\n",
      "510/510 [==============================] - 1s 2ms/step - loss: 0.3765 - accuracy: 0.8942 - val_loss: 0.4729 - val_accuracy: 0.8772\n",
      "Epoch 26/50\n",
      "510/510 [==============================] - 1s 3ms/step - loss: 0.3676 - accuracy: 0.8943 - val_loss: 0.4504 - val_accuracy: 0.8828\n",
      "Epoch 27/50\n",
      "510/510 [==============================] - 1s 2ms/step - loss: 0.3554 - accuracy: 0.8979 - val_loss: 0.4474 - val_accuracy: 0.8814\n",
      "Epoch 28/50\n",
      "510/510 [==============================] - 1s 3ms/step - loss: 0.3506 - accuracy: 0.8987 - val_loss: 0.4450 - val_accuracy: 0.8811\n",
      "Epoch 29/50\n",
      "510/510 [==============================] - 1s 3ms/step - loss: 0.3400 - accuracy: 0.9031 - val_loss: 0.4437 - val_accuracy: 0.8917\n",
      "Epoch 30/50\n",
      "510/510 [==============================] - 1s 2ms/step - loss: 0.3329 - accuracy: 0.9024 - val_loss: 0.4426 - val_accuracy: 0.8843\n",
      "Epoch 31/50\n",
      "510/510 [==============================] - 1s 2ms/step - loss: 0.3210 - accuracy: 0.9089 - val_loss: 0.4319 - val_accuracy: 0.8843\n",
      "Epoch 32/50\n",
      "510/510 [==============================] - 1s 2ms/step - loss: 0.3157 - accuracy: 0.9074 - val_loss: 0.4149 - val_accuracy: 0.8919\n",
      "Epoch 33/50\n",
      "510/510 [==============================] - 1s 3ms/step - loss: 0.3098 - accuracy: 0.9099 - val_loss: 0.4098 - val_accuracy: 0.8895\n",
      "Epoch 34/50\n",
      "510/510 [==============================] - 1s 2ms/step - loss: 0.3031 - accuracy: 0.9106 - val_loss: 0.3992 - val_accuracy: 0.8944\n",
      "Epoch 35/50\n",
      "510/510 [==============================] - 1s 2ms/step - loss: 0.2948 - accuracy: 0.9141 - val_loss: 0.4041 - val_accuracy: 0.8968\n",
      "Epoch 36/50\n",
      "510/510 [==============================] - 1s 3ms/step - loss: 0.2882 - accuracy: 0.9164 - val_loss: 0.4169 - val_accuracy: 0.8892\n",
      "Epoch 37/50\n",
      "510/510 [==============================] - 1s 2ms/step - loss: 0.2833 - accuracy: 0.9150 - val_loss: 0.3895 - val_accuracy: 0.9012\n",
      "Epoch 38/50\n",
      "510/510 [==============================] - 1s 2ms/step - loss: 0.2771 - accuracy: 0.9173 - val_loss: 0.4059 - val_accuracy: 0.8944\n",
      "Epoch 39/50\n",
      "510/510 [==============================] - 1s 2ms/step - loss: 0.2749 - accuracy: 0.9192 - val_loss: 0.3966 - val_accuracy: 0.8956\n",
      "Epoch 40/50\n",
      "510/510 [==============================] - 1s 3ms/step - loss: 0.2662 - accuracy: 0.9205 - val_loss: 0.3988 - val_accuracy: 0.8941\n",
      "Epoch 41/50\n",
      "510/510 [==============================] - 2s 3ms/step - loss: 0.2630 - accuracy: 0.9214 - val_loss: 0.4037 - val_accuracy: 0.8934\n",
      "Epoch 42/50\n",
      "510/510 [==============================] - 1s 2ms/step - loss: 0.2532 - accuracy: 0.9248 - val_loss: 0.3836 - val_accuracy: 0.8998\n",
      "Epoch 43/50\n",
      "510/510 [==============================] - 1s 3ms/step - loss: 0.2512 - accuracy: 0.9261 - val_loss: 0.3900 - val_accuracy: 0.8998\n",
      "Epoch 44/50\n",
      "510/510 [==============================] - 1s 2ms/step - loss: 0.2472 - accuracy: 0.9279 - val_loss: 0.3773 - val_accuracy: 0.9025\n",
      "Epoch 45/50\n",
      "510/510 [==============================] - 1s 2ms/step - loss: 0.2423 - accuracy: 0.9268 - val_loss: 0.3929 - val_accuracy: 0.9000\n",
      "Epoch 46/50\n",
      "510/510 [==============================] - 1s 2ms/step - loss: 0.2376 - accuracy: 0.9303 - val_loss: 0.3838 - val_accuracy: 0.9020\n",
      "Epoch 47/50\n",
      "510/510 [==============================] - 1s 2ms/step - loss: 0.2349 - accuracy: 0.9285 - val_loss: 0.3719 - val_accuracy: 0.9005\n",
      "Epoch 48/50\n",
      "510/510 [==============================] - 1s 3ms/step - loss: 0.2294 - accuracy: 0.9312 - val_loss: 0.3833 - val_accuracy: 0.8990\n",
      "Epoch 49/50\n",
      "510/510 [==============================] - 1s 2ms/step - loss: 0.2287 - accuracy: 0.9303 - val_loss: 0.3807 - val_accuracy: 0.9061\n",
      "Epoch 50/50\n",
      "510/510 [==============================] - 1s 2ms/step - loss: 0.2234 - accuracy: 0.9341 - val_loss: 0.3821 - val_accuracy: 0.8993\n"
     ]
    }
   ],
   "source": [
    "# Train the model\n",
    "history = model.fit(X_train, y_train, epochs=50, batch_size=32, validation_data=(X_test, y_test))"
   ],
   "metadata": {
    "collapsed": false,
    "ExecuteTime": {
     "end_time": "2024-01-08T19:13:05.295689300Z",
     "start_time": "2024-01-08T19:11:57.352868600Z"
    }
   },
   "id": "3d06db8465aeb79b",
   "execution_count": 75
  },
  {
   "cell_type": "code",
   "outputs": [
    {
     "data": {
      "text/plain": "        loss  accuracy  val_loss  val_accuracy  epoch\n45  0.237615  0.930331  0.383836      0.901961     45\n46  0.234904  0.928493  0.371916      0.900490     46\n47  0.229384  0.931250  0.383265      0.899020     47\n48  0.228680  0.930270  0.380700      0.906127     48\n49  0.223405  0.934130  0.382122      0.899265     49",
      "text/html": "<div>\n<style scoped>\n    .dataframe tbody tr th:only-of-type {\n        vertical-align: middle;\n    }\n\n    .dataframe tbody tr th {\n        vertical-align: top;\n    }\n\n    .dataframe thead th {\n        text-align: right;\n    }\n</style>\n<table border=\"1\" class=\"dataframe\">\n  <thead>\n    <tr style=\"text-align: right;\">\n      <th></th>\n      <th>loss</th>\n      <th>accuracy</th>\n      <th>val_loss</th>\n      <th>val_accuracy</th>\n      <th>epoch</th>\n    </tr>\n  </thead>\n  <tbody>\n    <tr>\n      <th>45</th>\n      <td>0.237615</td>\n      <td>0.930331</td>\n      <td>0.383836</td>\n      <td>0.901961</td>\n      <td>45</td>\n    </tr>\n    <tr>\n      <th>46</th>\n      <td>0.234904</td>\n      <td>0.928493</td>\n      <td>0.371916</td>\n      <td>0.900490</td>\n      <td>46</td>\n    </tr>\n    <tr>\n      <th>47</th>\n      <td>0.229384</td>\n      <td>0.931250</td>\n      <td>0.383265</td>\n      <td>0.899020</td>\n      <td>47</td>\n    </tr>\n    <tr>\n      <th>48</th>\n      <td>0.228680</td>\n      <td>0.930270</td>\n      <td>0.380700</td>\n      <td>0.906127</td>\n      <td>48</td>\n    </tr>\n    <tr>\n      <th>49</th>\n      <td>0.223405</td>\n      <td>0.934130</td>\n      <td>0.382122</td>\n      <td>0.899265</td>\n      <td>49</td>\n    </tr>\n  </tbody>\n</table>\n</div>"
     },
     "execution_count": 76,
     "metadata": {},
     "output_type": "execute_result"
    }
   ],
   "source": [
    "# Show history in dataframe\n",
    "hist_df = pd.DataFrame(history.history)\n",
    "hist_df['epoch'] = history.epoch\n",
    "hist_df.tail()"
   ],
   "metadata": {
    "collapsed": false,
    "ExecuteTime": {
     "end_time": "2024-01-08T19:13:05.316105800Z",
     "start_time": "2024-01-08T19:13:05.280727100Z"
    }
   },
   "id": "2d8b31d321943353",
   "execution_count": 76
  },
  {
   "cell_type": "code",
   "outputs": [
    {
     "data": {
      "text/plain": "<Figure size 1000x800 with 1 Axes>",
      "image/png": "[encoded data removed]"
     },
     "metadata": {},
     "output_type": "display_data"
    }
   ],
   "source": [
    "# Plot the loss curves\n",
    "plt.figure(figsize=(10, 8))\n",
    "plt.plot(hist_df['epoch'], hist_df['loss'], label='Training loss')\n",
    "plt.plot(hist_df['epoch'], hist_df['val_loss'], label='Validation loss')\n",
    "plt.xlabel('Epoch')\n",
    "plt.ylabel('Loss')\n",
    "plt.legend()\n",
    "plt.show()"
   ],
   "metadata": {
    "collapsed": false,
    "ExecuteTime": {
     "end_time": "2024-01-08T19:13:05.680051900Z",
     "start_time": "2024-01-08T19:13:05.300393500Z"
    }
   },
   "id": "9bdf6d8428864a66",
   "execution_count": 77
  },
  {
   "cell_type": "code",
   "outputs": [
    {
     "data": {
      "text/plain": "<Figure size 1000x800 with 1 Axes>",
      "image/png": "[encoded data removed]"
     },
     "metadata": {},
     "output_type": "display_data"
    }
   ],
   "source": [
    "# Plot the accuracy curves\n",
    "plt.figure(figsize=(10, 8))\n",
    "plt.plot(hist_df['epoch'], hist_df['accuracy'], label='Training accuracy')\n",
    "plt.plot(hist_df['epoch'], hist_df['val_accuracy'], label='Validation accuracy')\n",
    "plt.xlabel('Epoch')\n",
    "plt.ylabel('Accuracy')\n",
    "plt.legend()\n",
    "plt.show()"
   ],
   "metadata": {
    "collapsed": false,
    "ExecuteTime": {
     "end_time": "2024-01-08T19:13:05.958939Z",
     "start_time": "2024-01-08T19:13:05.547637900Z"
    }
   },
   "id": "b3b1774c532a2337",
   "execution_count": 78
  }
 ],
 "metadata": {
  "kernelspec": {
   "name": "python3",
   "language": "python",
   "display_name": "Python 3 (ipykernel)"
  },
  "language_info": {
   "codemirror_mode": {
    "name": "ipython",
    "version": 2
   },
   "file_extension": ".py",
   "mimetype": "text/x-python",
   "name": "python",
   "nbconvert_exporter": "python",
   "pygments_lexer": "ipython2",
   "version": "2.7.6"
  }
 },
 "nbformat": 4,
 "nbformat_minor": 5
}
