{
 "cells": [
  {
   "cell_type": "code",
   "execution_count": 124,
   "id": "initial_id",
   "metadata": {
    "collapsed": true,
    "ExecuteTime": {
     "end_time": "2024-01-01T15:16:27.064795800Z",
     "start_time": "2024-01-01T15:16:27.027077400Z"
    }
   },
   "outputs": [],
   "source": [
    "import pandas as pd\n",
    "import numpy as np"
   ]
  },
  {
   "cell_type": "markdown",
   "source": [
    "# Data Loading and Preprocessing"
   ],
   "metadata": {
    "collapsed": false
   },
   "id": "9125055ef893b840"
  },
  {
   "cell_type": "code",
   "execution_count": 125,
   "outputs": [
    {
     "data": {
      "text/plain": "subject            s002s002s002s002s002s002s002s002s002s002s002s0...\nsessionIndex                                                   91800\nrep                                                           520200\nH.period                                                   1904.9262\nDD.period.t                                                5388.6217\nUD.period.t                                                3483.6955\nH.t                                                         1748.833\nDD.t.i                                                     3449.3299\nUD.t.i                                                     1700.4969\nH.i                                                        1663.9357\nDD.i.e                                                     3251.1835\nUD.i.e                                                     1587.2478\nH.e                                                        1818.4228\nDD.e.five                                                  7699.6484\nUD.e.five                                                  5881.2256\nH.five                                                     1568.8358\nDD.five.Shift.r                                             8953.287\nUD.five.Shift.r                                            7384.4512\nH.Shift.r                                                   1957.124\nDD.Shift.r.o                                               5118.7958\nUD.Shift.r.o                                               3161.6718\nH.o                                                        1802.4212\nDD.o.a                                                      3201.387\nUD.o.a                                                     1398.9658\nH.a                                                        2167.6893\nDD.a.n                                                     3073.6688\nUD.a.n                                                      905.9795\nH.n                                                        1833.9453\nDD.n.l                                                     4133.6574\nUD.n.l                                                     2299.7121\nH.l                                                        1950.0101\nDD.l.Return                                                6565.6859\nUD.l.Return                                                4615.6758\nH.Return                                                   1801.4464\ndtype: object"
     },
     "execution_count": 125,
     "metadata": {},
     "output_type": "execute_result"
    }
   ],
   "source": [
    "df = pd.read_csv('data/DSL-StrongPasswordData.csv')\n",
    "df.sum()"
   ],
   "metadata": {
    "collapsed": false,
    "ExecuteTime": {
     "end_time": "2024-01-01T15:16:27.265163500Z",
     "start_time": "2024-01-01T15:16:27.033492700Z"
    }
   },
   "id": "ca9e47dad0f15c92"
  },
  {
   "cell_type": "code",
   "execution_count": 126,
   "outputs": [
    {
     "data": {
      "text/plain": "  subject  sessionIndex  rep  H.period  DD.period.t  UD.period.t     H.t  \\\n0    s002             1    1    0.1491       0.3979       0.2488  0.1069   \n1    s002             1    2    0.1111       0.3451       0.2340  0.0694   \n2    s002             1    3    0.1328       0.2072       0.0744  0.0731   \n3    s002             1    4    0.1291       0.2515       0.1224  0.1059   \n4    s002             1    5    0.1249       0.2317       0.1068  0.0895   \n\n   DD.t.i  UD.t.i     H.i  ...     H.a  DD.a.n  UD.a.n     H.n  DD.n.l  \\\n0  0.1674  0.0605  0.1169  ...  0.1349  0.1484  0.0135  0.0932  0.3515   \n1  0.1283  0.0589  0.0908  ...  0.1412  0.2558  0.1146  0.1146  0.2642   \n2  0.1291  0.0560  0.0821  ...  0.1621  0.2332  0.0711  0.1172  0.2705   \n3  0.2495  0.1436  0.1040  ...  0.1457  0.1629  0.0172  0.0866  0.2341   \n4  0.1676  0.0781  0.0903  ...  0.1312  0.1582  0.0270  0.0884  0.2517   \n\n   UD.n.l     H.l  DD.l.Return  UD.l.Return  H.Return  \n0  0.2583  0.1338       0.3509       0.2171    0.0742  \n1  0.1496  0.0839       0.2756       0.1917    0.0747  \n2  0.1533  0.1085       0.2847       0.1762    0.0945  \n3  0.1475  0.0845       0.3232       0.2387    0.0813  \n4  0.1633  0.0903       0.2517       0.1614    0.0818  \n\n[5 rows x 34 columns]",
      "text/html": "<div>\n<style scoped>\n    .dataframe tbody tr th:only-of-type {\n        vertical-align: middle;\n    }\n\n    .dataframe tbody tr th {\n        vertical-align: top;\n    }\n\n    .dataframe thead th {\n        text-align: right;\n    }\n</style>\n<table border=\"1\" class=\"dataframe\">\n  <thead>\n    <tr style=\"text-align: right;\">\n      <th></th>\n      <th>subject</th>\n      <th>sessionIndex</th>\n      <th>rep</th>\n      <th>H.period</th>\n      <th>DD.period.t</th>\n      <th>UD.period.t</th>\n      <th>H.t</th>\n      <th>DD.t.i</th>\n      <th>UD.t.i</th>\n      <th>H.i</th>\n      <th>...</th>\n      <th>H.a</th>\n      <th>DD.a.n</th>\n      <th>UD.a.n</th>\n      <th>H.n</th>\n      <th>DD.n.l</th>\n      <th>UD.n.l</th>\n      <th>H.l</th>\n      <th>DD.l.Return</th>\n      <th>UD.l.Return</th>\n      <th>H.Return</th>\n    </tr>\n  </thead>\n  <tbody>\n    <tr>\n      <th>0</th>\n      <td>s002</td>\n      <td>1</td>\n      <td>1</td>\n      <td>0.1491</td>\n      <td>0.3979</td>\n      <td>0.2488</td>\n      <td>0.1069</td>\n      <td>0.1674</td>\n      <td>0.0605</td>\n      <td>0.1169</td>\n      <td>...</td>\n      <td>0.1349</td>\n      <td>0.1484</td>\n      <td>0.0135</td>\n      <td>0.0932</td>\n      <td>0.3515</td>\n      <td>0.2583</td>\n      <td>0.1338</td>\n      <td>0.3509</td>\n      <td>0.2171</td>\n      <td>0.0742</td>\n    </tr>\n    <tr>\n      <th>1</th>\n      <td>s002</td>\n      <td>1</td>\n      <td>2</td>\n      <td>0.1111</td>\n      <td>0.3451</td>\n      <td>0.2340</td>\n      <td>0.0694</td>\n      <td>0.1283</td>\n      <td>0.0589</td>\n      <td>0.0908</td>\n      <td>...</td>\n      <td>0.1412</td>\n      <td>0.2558</td>\n      <td>0.1146</td>\n      <td>0.1146</td>\n      <td>0.2642</td>\n      <td>0.1496</td>\n      <td>0.0839</td>\n      <td>0.2756</td>\n      <td>0.1917</td>\n      <td>0.0747</td>\n    </tr>\n    <tr>\n      <th>2</th>\n      <td>s002</td>\n      <td>1</td>\n      <td>3</td>\n      <td>0.1328</td>\n      <td>0.2072</td>\n      <td>0.0744</td>\n      <td>0.0731</td>\n      <td>0.1291</td>\n      <td>0.0560</td>\n      <td>0.0821</td>\n      <td>...</td>\n      <td>0.1621</td>\n      <td>0.2332</td>\n      <td>0.0711</td>\n      <td>0.1172</td>\n      <td>0.2705</td>\n      <td>0.1533</td>\n      <td>0.1085</td>\n      <td>0.2847</td>\n      <td>0.1762</td>\n      <td>0.0945</td>\n    </tr>\n    <tr>\n      <th>3</th>\n      <td>s002</td>\n      <td>1</td>\n      <td>4</td>\n      <td>0.1291</td>\n      <td>0.2515</td>\n      <td>0.1224</td>\n      <td>0.1059</td>\n      <td>0.2495</td>\n      <td>0.1436</td>\n      <td>0.1040</td>\n      <td>...</td>\n      <td>0.1457</td>\n      <td>0.1629</td>\n      <td>0.0172</td>\n      <td>0.0866</td>\n      <td>0.2341</td>\n      <td>0.1475</td>\n      <td>0.0845</td>\n      <td>0.3232</td>\n      <td>0.2387</td>\n      <td>0.0813</td>\n    </tr>\n    <tr>\n      <th>4</th>\n      <td>s002</td>\n      <td>1</td>\n      <td>5</td>\n      <td>0.1249</td>\n      <td>0.2317</td>\n      <td>0.1068</td>\n      <td>0.0895</td>\n      <td>0.1676</td>\n      <td>0.0781</td>\n      <td>0.0903</td>\n      <td>...</td>\n      <td>0.1312</td>\n      <td>0.1582</td>\n      <td>0.0270</td>\n      <td>0.0884</td>\n      <td>0.2517</td>\n      <td>0.1633</td>\n      <td>0.0903</td>\n      <td>0.2517</td>\n      <td>0.1614</td>\n      <td>0.0818</td>\n    </tr>\n  </tbody>\n</table>\n<p>5 rows × 34 columns</p>\n</div>"
     },
     "execution_count": 126,
     "metadata": {},
     "output_type": "execute_result"
    }
   ],
   "source": [
    "df.head()"
   ],
   "metadata": {
    "collapsed": false,
    "ExecuteTime": {
     "end_time": "2024-01-01T15:16:27.265833600Z",
     "start_time": "2024-01-01T15:16:27.173660300Z"
    }
   },
   "id": "5d6f7650cf34d407"
  },
  {
   "cell_type": "markdown",
   "source": [
    "Anomaly detection per user (not general): it will allow us to make a specific profile over keystroke"
   ],
   "metadata": {
    "collapsed": false
   },
   "id": "e4475e9147719335"
  },
  {
   "cell_type": "code",
   "execution_count": 127,
   "outputs": [
    {
     "data": {
      "text/plain": "  subject  H.period  DD.period.t  UD.period.t     H.t  DD.t.i  UD.t.i     H.i  \\\n0    s002    0.1491       0.3979       0.2488  0.1069  0.1674  0.0605  0.1169   \n1    s002    0.1111       0.3451       0.2340  0.0694  0.1283  0.0589  0.0908   \n2    s002    0.1328       0.2072       0.0744  0.0731  0.1291  0.0560  0.0821   \n3    s002    0.1291       0.2515       0.1224  0.1059  0.2495  0.1436  0.1040   \n4    s002    0.1249       0.2317       0.1068  0.0895  0.1676  0.0781  0.0903   \n\n   DD.i.e  UD.i.e  ...     H.a  DD.a.n  UD.a.n     H.n  DD.n.l  UD.n.l  \\\n0  0.2212  0.1043  ...  0.1349  0.1484  0.0135  0.0932  0.3515  0.2583   \n1  0.1357  0.0449  ...  0.1412  0.2558  0.1146  0.1146  0.2642  0.1496   \n2  0.1542  0.0721  ...  0.1621  0.2332  0.0711  0.1172  0.2705  0.1533   \n3  0.2038  0.0998  ...  0.1457  0.1629  0.0172  0.0866  0.2341  0.1475   \n4  0.1589  0.0686  ...  0.1312  0.1582  0.0270  0.0884  0.2517  0.1633   \n\n      H.l  DD.l.Return  UD.l.Return  H.Return  \n0  0.1338       0.3509       0.2171    0.0742  \n1  0.0839       0.2756       0.1917    0.0747  \n2  0.1085       0.2847       0.1762    0.0945  \n3  0.0845       0.3232       0.2387    0.0813  \n4  0.0903       0.2517       0.1614    0.0818  \n\n[5 rows x 32 columns]",
      "text/html": "<div>\n<style scoped>\n    .dataframe tbody tr th:only-of-type {\n        vertical-align: middle;\n    }\n\n    .dataframe tbody tr th {\n        vertical-align: top;\n    }\n\n    .dataframe thead th {\n        text-align: right;\n    }\n</style>\n<table border=\"1\" class=\"dataframe\">\n  <thead>\n    <tr style=\"text-align: right;\">\n      <th></th>\n      <th>subject</th>\n      <th>H.period</th>\n      <th>DD.period.t</th>\n      <th>UD.period.t</th>\n      <th>H.t</th>\n      <th>DD.t.i</th>\n      <th>UD.t.i</th>\n      <th>H.i</th>\n      <th>DD.i.e</th>\n      <th>UD.i.e</th>\n      <th>...</th>\n      <th>H.a</th>\n      <th>DD.a.n</th>\n      <th>UD.a.n</th>\n      <th>H.n</th>\n      <th>DD.n.l</th>\n      <th>UD.n.l</th>\n      <th>H.l</th>\n      <th>DD.l.Return</th>\n      <th>UD.l.Return</th>\n      <th>H.Return</th>\n    </tr>\n  </thead>\n  <tbody>\n    <tr>\n      <th>0</th>\n      <td>s002</td>\n      <td>0.1491</td>\n      <td>0.3979</td>\n      <td>0.2488</td>\n      <td>0.1069</td>\n      <td>0.1674</td>\n      <td>0.0605</td>\n      <td>0.1169</td>\n      <td>0.2212</td>\n      <td>0.1043</td>\n      <td>...</td>\n      <td>0.1349</td>\n      <td>0.1484</td>\n      <td>0.0135</td>\n      <td>0.0932</td>\n      <td>0.3515</td>\n      <td>0.2583</td>\n      <td>0.1338</td>\n      <td>0.3509</td>\n      <td>0.2171</td>\n      <td>0.0742</td>\n    </tr>\n    <tr>\n      <th>1</th>\n      <td>s002</td>\n      <td>0.1111</td>\n      <td>0.3451</td>\n      <td>0.2340</td>\n      <td>0.0694</td>\n      <td>0.1283</td>\n      <td>0.0589</td>\n      <td>0.0908</td>\n      <td>0.1357</td>\n      <td>0.0449</td>\n      <td>...</td>\n      <td>0.1412</td>\n      <td>0.2558</td>\n      <td>0.1146</td>\n      <td>0.1146</td>\n      <td>0.2642</td>\n      <td>0.1496</td>\n      <td>0.0839</td>\n      <td>0.2756</td>\n      <td>0.1917</td>\n      <td>0.0747</td>\n    </tr>\n    <tr>\n      <th>2</th>\n      <td>s002</td>\n      <td>0.1328</td>\n      <td>0.2072</td>\n      <td>0.0744</td>\n      <td>0.0731</td>\n      <td>0.1291</td>\n      <td>0.0560</td>\n      <td>0.0821</td>\n      <td>0.1542</td>\n      <td>0.0721</td>\n      <td>...</td>\n      <td>0.1621</td>\n      <td>0.2332</td>\n      <td>0.0711</td>\n      <td>0.1172</td>\n      <td>0.2705</td>\n      <td>0.1533</td>\n      <td>0.1085</td>\n      <td>0.2847</td>\n      <td>0.1762</td>\n      <td>0.0945</td>\n    </tr>\n    <tr>\n      <th>3</th>\n      <td>s002</td>\n      <td>0.1291</td>\n      <td>0.2515</td>\n      <td>0.1224</td>\n      <td>0.1059</td>\n      <td>0.2495</td>\n      <td>0.1436</td>\n      <td>0.1040</td>\n      <td>0.2038</td>\n      <td>0.0998</td>\n      <td>...</td>\n      <td>0.1457</td>\n      <td>0.1629</td>\n      <td>0.0172</td>\n      <td>0.0866</td>\n      <td>0.2341</td>\n      <td>0.1475</td>\n      <td>0.0845</td>\n      <td>0.3232</td>\n      <td>0.2387</td>\n      <td>0.0813</td>\n    </tr>\n    <tr>\n      <th>4</th>\n      <td>s002</td>\n      <td>0.1249</td>\n      <td>0.2317</td>\n      <td>0.1068</td>\n      <td>0.0895</td>\n      <td>0.1676</td>\n      <td>0.0781</td>\n      <td>0.0903</td>\n      <td>0.1589</td>\n      <td>0.0686</td>\n      <td>...</td>\n      <td>0.1312</td>\n      <td>0.1582</td>\n      <td>0.0270</td>\n      <td>0.0884</td>\n      <td>0.2517</td>\n      <td>0.1633</td>\n      <td>0.0903</td>\n      <td>0.2517</td>\n      <td>0.1614</td>\n      <td>0.0818</td>\n    </tr>\n  </tbody>\n</table>\n<p>5 rows × 32 columns</p>\n</div>"
     },
     "execution_count": 127,
     "metadata": {},
     "output_type": "execute_result"
    }
   ],
   "source": [
    "drop_cols = ['sessionIndex', 'rep']\n",
    "df = df.drop(drop_cols, axis=1)\n",
    "df.head()"
   ],
   "metadata": {
    "collapsed": false,
    "ExecuteTime": {
     "end_time": "2024-01-01T15:16:27.266628600Z",
     "start_time": "2024-01-01T15:16:27.218185900Z"
    }
   },
   "id": "f6b65a00a94c1be4"
  },
  {
   "cell_type": "code",
   "execution_count": 128,
   "outputs": [
    {
     "data": {
      "text/plain": "(20400, 51)"
     },
     "execution_count": 128,
     "metadata": {},
     "output_type": "execute_result"
    }
   ],
   "source": [
    "import sklearn.preprocessing as preprocessing\n",
    "\n",
    "enc = preprocessing.OneHotEncoder()\n",
    "enc.fit(df[['subject']])\n",
    "onehotlabels = enc.transform(df[['subject']]).toarray()\n",
    "onehotlabels.shape"
   ],
   "metadata": {
    "collapsed": false,
    "ExecuteTime": {
     "end_time": "2024-01-01T15:16:27.306232800Z",
     "start_time": "2024-01-01T15:16:27.249580700Z"
    }
   },
   "id": "fbd07200a80462b4"
  },
  {
   "cell_type": "code",
   "execution_count": 129,
   "outputs": [
    {
     "data": {
      "text/plain": "   H.period  DD.period.t  UD.period.t     H.t  DD.t.i  UD.t.i     H.i  DD.i.e  \\\n0    0.1491       0.3979       0.2488  0.1069  0.1674  0.0605  0.1169  0.2212   \n1    0.1111       0.3451       0.2340  0.0694  0.1283  0.0589  0.0908  0.1357   \n2    0.1328       0.2072       0.0744  0.0731  0.1291  0.0560  0.0821  0.1542   \n3    0.1291       0.2515       0.1224  0.1059  0.2495  0.1436  0.1040  0.2038   \n4    0.1249       0.2317       0.1068  0.0895  0.1676  0.0781  0.0903  0.1589   \n\n   UD.i.e     H.e  ...  subject_s048  subject_s049  subject_s050  \\\n0  0.1043  0.1417  ...           0.0           0.0           0.0   \n1  0.0449  0.0829  ...           0.0           0.0           0.0   \n2  0.0721  0.0808  ...           0.0           0.0           0.0   \n3  0.0998  0.0900  ...           0.0           0.0           0.0   \n4  0.0686  0.0805  ...           0.0           0.0           0.0   \n\n   subject_s051  subject_s052  subject_s053  subject_s054  subject_s055  \\\n0           0.0           0.0           0.0           0.0           0.0   \n1           0.0           0.0           0.0           0.0           0.0   \n2           0.0           0.0           0.0           0.0           0.0   \n3           0.0           0.0           0.0           0.0           0.0   \n4           0.0           0.0           0.0           0.0           0.0   \n\n   subject_s056  subject_s057  \n0           0.0           0.0  \n1           0.0           0.0  \n2           0.0           0.0  \n3           0.0           0.0  \n4           0.0           0.0  \n\n[5 rows x 82 columns]",
      "text/html": "<div>\n<style scoped>\n    .dataframe tbody tr th:only-of-type {\n        vertical-align: middle;\n    }\n\n    .dataframe tbody tr th {\n        vertical-align: top;\n    }\n\n    .dataframe thead th {\n        text-align: right;\n    }\n</style>\n<table border=\"1\" class=\"dataframe\">\n  <thead>\n    <tr style=\"text-align: right;\">\n      <th></th>\n      <th>H.period</th>\n      <th>DD.period.t</th>\n      <th>UD.period.t</th>\n      <th>H.t</th>\n      <th>DD.t.i</th>\n      <th>UD.t.i</th>\n      <th>H.i</th>\n      <th>DD.i.e</th>\n      <th>UD.i.e</th>\n      <th>H.e</th>\n      <th>...</th>\n      <th>subject_s048</th>\n      <th>subject_s049</th>\n      <th>subject_s050</th>\n      <th>subject_s051</th>\n      <th>subject_s052</th>\n      <th>subject_s053</th>\n      <th>subject_s054</th>\n      <th>subject_s055</th>\n      <th>subject_s056</th>\n      <th>subject_s057</th>\n    </tr>\n  </thead>\n  <tbody>\n    <tr>\n      <th>0</th>\n      <td>0.1491</td>\n      <td>0.3979</td>\n      <td>0.2488</td>\n      <td>0.1069</td>\n      <td>0.1674</td>\n      <td>0.0605</td>\n      <td>0.1169</td>\n      <td>0.2212</td>\n      <td>0.1043</td>\n      <td>0.1417</td>\n      <td>...</td>\n      <td>0.0</td>\n      <td>0.0</td>\n      <td>0.0</td>\n      <td>0.0</td>\n      <td>0.0</td>\n      <td>0.0</td>\n      <td>0.0</td>\n      <td>0.0</td>\n      <td>0.0</td>\n      <td>0.0</td>\n    </tr>\n    <tr>\n      <th>1</th>\n      <td>0.1111</td>\n      <td>0.3451</td>\n      <td>0.2340</td>\n      <td>0.0694</td>\n      <td>0.1283</td>\n      <td>0.0589</td>\n      <td>0.0908</td>\n      <td>0.1357</td>\n      <td>0.0449</td>\n      <td>0.0829</td>\n      <td>...</td>\n      <td>0.0</td>\n      <td>0.0</td>\n      <td>0.0</td>\n      <td>0.0</td>\n      <td>0.0</td>\n      <td>0.0</td>\n      <td>0.0</td>\n      <td>0.0</td>\n      <td>0.0</td>\n      <td>0.0</td>\n    </tr>\n    <tr>\n      <th>2</th>\n      <td>0.1328</td>\n      <td>0.2072</td>\n      <td>0.0744</td>\n      <td>0.0731</td>\n      <td>0.1291</td>\n      <td>0.0560</td>\n      <td>0.0821</td>\n      <td>0.1542</td>\n      <td>0.0721</td>\n      <td>0.0808</td>\n      <td>...</td>\n      <td>0.0</td>\n      <td>0.0</td>\n      <td>0.0</td>\n      <td>0.0</td>\n      <td>0.0</td>\n      <td>0.0</td>\n      <td>0.0</td>\n      <td>0.0</td>\n      <td>0.0</td>\n      <td>0.0</td>\n    </tr>\n    <tr>\n      <th>3</th>\n      <td>0.1291</td>\n      <td>0.2515</td>\n      <td>0.1224</td>\n      <td>0.1059</td>\n      <td>0.2495</td>\n      <td>0.1436</td>\n      <td>0.1040</td>\n      <td>0.2038</td>\n      <td>0.0998</td>\n      <td>0.0900</td>\n      <td>...</td>\n      <td>0.0</td>\n      <td>0.0</td>\n      <td>0.0</td>\n      <td>0.0</td>\n      <td>0.0</td>\n      <td>0.0</td>\n      <td>0.0</td>\n      <td>0.0</td>\n      <td>0.0</td>\n      <td>0.0</td>\n    </tr>\n    <tr>\n      <th>4</th>\n      <td>0.1249</td>\n      <td>0.2317</td>\n      <td>0.1068</td>\n      <td>0.0895</td>\n      <td>0.1676</td>\n      <td>0.0781</td>\n      <td>0.0903</td>\n      <td>0.1589</td>\n      <td>0.0686</td>\n      <td>0.0805</td>\n      <td>...</td>\n      <td>0.0</td>\n      <td>0.0</td>\n      <td>0.0</td>\n      <td>0.0</td>\n      <td>0.0</td>\n      <td>0.0</td>\n      <td>0.0</td>\n      <td>0.0</td>\n      <td>0.0</td>\n      <td>0.0</td>\n    </tr>\n  </tbody>\n</table>\n<p>5 rows × 82 columns</p>\n</div>"
     },
     "execution_count": 129,
     "metadata": {},
     "output_type": "execute_result"
    }
   ],
   "source": [
    "# replace subjects names with one hot encoding in the single column \"subject\"\n",
    "df = df.drop(['subject'], axis=1)\n",
    "subjects_df = pd.DataFrame(onehotlabels, columns=enc.get_feature_names_out(['subject']))\n",
    "df = df.reset_index(drop=True)\n",
    "df = pd.concat([df, subjects_df], axis=1)\n",
    "df.head()"
   ],
   "metadata": {
    "collapsed": false,
    "ExecuteTime": {
     "end_time": "2024-01-01T15:16:27.598425500Z",
     "start_time": "2024-01-01T15:16:27.282579300Z"
    }
   },
   "id": "4ed3892ee0cc7028"
  },
  {
   "cell_type": "markdown",
   "source": [
    "Data splitting"
   ],
   "metadata": {
    "collapsed": false
   },
   "id": "f70035e544550da9"
  },
  {
   "cell_type": "code",
   "execution_count": 130,
   "outputs": [
    {
     "name": "stdout",
     "output_type": "stream",
     "text": [
      "(16320, 82) (4080, 82)\n",
      "H.period        1527.6842\n",
      "DD.period.t     4327.0638\n",
      "UD.period.t     2799.3796\n",
      "H.t             1399.5392\n",
      "DD.t.i          2769.2197\n",
      "                  ...    \n",
      "subject_s053     320.0000\n",
      "subject_s054     323.0000\n",
      "subject_s055     317.0000\n",
      "subject_s056     336.0000\n",
      "subject_s057     322.0000\n",
      "Length: 82, dtype: float64\n"
     ]
    },
    {
     "name": "stderr",
     "output_type": "stream",
     "text": [
      "V:\\Prog\\PythonEnv\\nancy\\lib\\site-packages\\numpy\\core\\fromnumeric.py:59: FutureWarning: 'DataFrame.swapaxes' is deprecated and will be removed in a future version. Please use 'DataFrame.transpose' instead.\n",
      "  return bound(*args, **kwds)\n"
     ]
    }
   ],
   "source": [
    "train_set, test_set = np.split(df.sample(frac=1), [int(.8*len(df))])\n",
    "print(train_set.shape, test_set.shape)\n",
    "print(train_set.sum())"
   ],
   "metadata": {
    "collapsed": false,
    "ExecuteTime": {
     "end_time": "2024-01-01T15:16:27.649964100Z",
     "start_time": "2024-01-01T15:16:27.340016900Z"
    }
   },
   "id": "7d3a8ddaa604fd66"
  },
  {
   "cell_type": "markdown",
   "source": [
    "Autoencoder"
   ],
   "metadata": {
    "collapsed": false
   },
   "id": "dd0fb53f1d0baa7f"
  },
  {
   "cell_type": "code",
   "execution_count": 131,
   "outputs": [],
   "source": [
    "import tensorflow as tf\n",
    "from tensorflow.keras.layers import Input, Dense\n",
    "from tensorflow.keras.models import Model\n",
    "from tensorflow.keras import regularizers"
   ],
   "metadata": {
    "collapsed": false,
    "ExecuteTime": {
     "end_time": "2024-01-01T15:16:27.722023Z",
     "start_time": "2024-01-01T15:16:27.436323200Z"
    }
   },
   "id": "153f80a9ee4b50d3"
  },
  {
   "cell_type": "markdown",
   "source": [
    "# Model"
   ],
   "metadata": {
    "collapsed": false
   },
   "id": "395915807790b0e"
  },
  {
   "cell_type": "code",
   "execution_count": 132,
   "outputs": [],
   "source": [
    "input_dim = train_set.shape[1]\n",
    "encoding_dim = 32\n",
    "input_layer = Input(shape=(input_dim, ))\n",
    "encoder = Dense(encoding_dim, activation=\"tanh\", activity_regularizer=regularizers.l1(10e-5))(input_layer)\n",
    "encoder = Dense(int(encoding_dim / 2), activation=\"relu\")(encoder)\n",
    "decoder = Dense(int(encoding_dim / 2), activation='tanh')(encoder)\n",
    "decoder = Dense(input_dim, activation='relu')(decoder)\n",
    "autoencoder = Model(inputs=input_layer, outputs=decoder)"
   ],
   "metadata": {
    "collapsed": false,
    "ExecuteTime": {
     "end_time": "2024-01-01T15:16:27.895181800Z",
     "start_time": "2024-01-01T15:16:27.450768600Z"
    }
   },
   "id": "1d9ce828ff528284"
  },
  {
   "cell_type": "markdown",
   "source": [
    "# Training"
   ],
   "metadata": {
    "collapsed": false
   },
   "id": "356093b927c4d1f3"
  },
  {
   "cell_type": "code",
   "execution_count": 133,
   "outputs": [
    {
     "name": "stdout",
     "output_type": "stream",
     "text": [
      "Epoch 1/50\n",
      "510/510 [==============================] - 2s 2ms/step - loss: 0.0292 - val_loss: 0.0221\n",
      "Epoch 2/50\n",
      "510/510 [==============================] - 1s 2ms/step - loss: 0.0216 - val_loss: 0.0183\n",
      "Epoch 3/50\n",
      "510/510 [==============================] - 1s 2ms/step - loss: 0.0195 - val_loss: 0.0172\n",
      "Epoch 4/50\n",
      "510/510 [==============================] - 1s 2ms/step - loss: 0.0186 - val_loss: 0.0165\n",
      "Epoch 5/50\n",
      "510/510 [==============================] - 1s 2ms/step - loss: 0.0179 - val_loss: 0.0158\n",
      "Epoch 6/50\n",
      "510/510 [==============================] - 1s 1ms/step - loss: 0.0173 - val_loss: 0.0152\n",
      "Epoch 7/50\n",
      "510/510 [==============================] - 1s 1ms/step - loss: 0.0167 - val_loss: 0.0147\n",
      "Epoch 8/50\n",
      "510/510 [==============================] - 1s 1ms/step - loss: 0.0161 - val_loss: 0.0142\n",
      "Epoch 9/50\n",
      "510/510 [==============================] - 1s 1ms/step - loss: 0.0156 - val_loss: 0.0137\n",
      "Epoch 10/50\n",
      "510/510 [==============================] - 1s 1ms/step - loss: 0.0151 - val_loss: 0.0132\n",
      "Epoch 11/50\n",
      "510/510 [==============================] - 1s 1ms/step - loss: 0.0147 - val_loss: 0.0128\n",
      "Epoch 12/50\n",
      "510/510 [==============================] - 1s 1ms/step - loss: 0.0143 - val_loss: 0.0124\n",
      "Epoch 13/50\n",
      "510/510 [==============================] - 1s 1ms/step - loss: 0.0139 - val_loss: 0.0120\n",
      "Epoch 14/50\n",
      "510/510 [==============================] - 1s 1ms/step - loss: 0.0135 - val_loss: 0.0116\n",
      "Epoch 15/50\n",
      "510/510 [==============================] - 1s 1ms/step - loss: 0.0131 - val_loss: 0.0113\n",
      "Epoch 16/50\n",
      "510/510 [==============================] - 1s 1ms/step - loss: 0.0128 - val_loss: 0.0110\n",
      "Epoch 17/50\n",
      "510/510 [==============================] - 1s 1ms/step - loss: 0.0125 - val_loss: 0.0107\n",
      "Epoch 18/50\n",
      "510/510 [==============================] - 1s 1ms/step - loss: 0.0123 - val_loss: 0.0105\n",
      "Epoch 19/50\n",
      "510/510 [==============================] - 1s 2ms/step - loss: 0.0120 - val_loss: 0.0103\n",
      "Epoch 20/50\n",
      "510/510 [==============================] - 1s 1ms/step - loss: 0.0118 - val_loss: 0.0101\n",
      "Epoch 21/50\n",
      "510/510 [==============================] - 1s 1ms/step - loss: 0.0116 - val_loss: 0.0098\n",
      "Epoch 22/50\n",
      "510/510 [==============================] - 1s 1ms/step - loss: 0.0113 - val_loss: 0.0096\n",
      "Epoch 23/50\n",
      "510/510 [==============================] - 1s 1ms/step - loss: 0.0111 - val_loss: 0.0094\n",
      "Epoch 24/50\n",
      "510/510 [==============================] - 1s 1ms/step - loss: 0.0109 - val_loss: 0.0092\n",
      "Epoch 25/50\n",
      "510/510 [==============================] - 1s 1ms/step - loss: 0.0107 - val_loss: 0.0091\n",
      "Epoch 26/50\n",
      "510/510 [==============================] - 1s 1ms/step - loss: 0.0106 - val_loss: 0.0089\n",
      "Epoch 27/50\n",
      "510/510 [==============================] - 1s 1ms/step - loss: 0.0105 - val_loss: 0.0088\n",
      "Epoch 28/50\n",
      "510/510 [==============================] - 1s 1ms/step - loss: 0.0103 - val_loss: 0.0087\n",
      "Epoch 29/50\n",
      "510/510 [==============================] - 1s 1ms/step - loss: 0.0102 - val_loss: 0.0085\n",
      "Epoch 30/50\n",
      "510/510 [==============================] - 1s 1ms/step - loss: 0.0101 - val_loss: 0.0084\n",
      "Epoch 31/50\n",
      "510/510 [==============================] - 1s 1ms/step - loss: 0.0100 - val_loss: 0.0083\n",
      "Epoch 32/50\n",
      "510/510 [==============================] - 1s 1ms/step - loss: 0.0099 - val_loss: 0.0083\n",
      "Epoch 33/50\n",
      "510/510 [==============================] - 1s 1ms/step - loss: 0.0098 - val_loss: 0.0082\n",
      "Epoch 34/50\n",
      "510/510 [==============================] - 1s 1ms/step - loss: 0.0097 - val_loss: 0.0081\n",
      "Epoch 35/50\n",
      "510/510 [==============================] - 1s 1ms/step - loss: 0.0096 - val_loss: 0.0080\n",
      "Epoch 36/50\n",
      "510/510 [==============================] - 1s 1ms/step - loss: 0.0095 - val_loss: 0.0079\n",
      "Epoch 37/50\n",
      "510/510 [==============================] - 1s 1ms/step - loss: 0.0094 - val_loss: 0.0078\n",
      "Epoch 38/50\n",
      "510/510 [==============================] - 1s 1ms/step - loss: 0.0093 - val_loss: 0.0078\n",
      "Epoch 39/50\n",
      "510/510 [==============================] - 1s 1ms/step - loss: 0.0092 - val_loss: 0.0077\n",
      "Epoch 40/50\n",
      "510/510 [==============================] - 1s 1ms/step - loss: 0.0092 - val_loss: 0.0076\n",
      "Epoch 41/50\n",
      "510/510 [==============================] - 1s 1ms/step - loss: 0.0091 - val_loss: 0.0076\n",
      "Epoch 42/50\n",
      "510/510 [==============================] - 1s 1ms/step - loss: 0.0090 - val_loss: 0.0075\n",
      "Epoch 43/50\n",
      "510/510 [==============================] - 1s 1ms/step - loss: 0.0089 - val_loss: 0.0075\n",
      "Epoch 44/50\n",
      "510/510 [==============================] - 1s 1ms/step - loss: 0.0089 - val_loss: 0.0074\n",
      "Epoch 45/50\n",
      "510/510 [==============================] - 1s 1ms/step - loss: 0.0088 - val_loss: 0.0074\n",
      "Epoch 46/50\n",
      "510/510 [==============================] - 1s 2ms/step - loss: 0.0088 - val_loss: 0.0073\n",
      "Epoch 47/50\n",
      "510/510 [==============================] - 1s 1ms/step - loss: 0.0087 - val_loss: 0.0073\n",
      "Epoch 48/50\n",
      "510/510 [==============================] - 1s 1ms/step - loss: 0.0086 - val_loss: 0.0072\n",
      "Epoch 49/50\n",
      "510/510 [==============================] - 1s 1ms/step - loss: 0.0086 - val_loss: 0.0072\n",
      "Epoch 50/50\n",
      "510/510 [==============================] - 1s 1ms/step - loss: 0.0085 - val_loss: 0.0071\n"
     ]
    }
   ],
   "source": [
    "nb_epoch = 50\n",
    "batch_size = 32\n",
    "early_stopping = tf.keras.callbacks.EarlyStopping(monitor='val_loss', patience=2)\n",
    "optimizer = tf.keras.optimizers.Adam(learning_rate=0.00005)\n",
    "autoencoder.compile(optimizer=optimizer, loss='mse')\n",
    "history = autoencoder.fit(train_set, train_set,\n",
    "                          epochs=nb_epoch,\n",
    "                          batch_size=batch_size,\n",
    "                          shuffle=True,\n",
    "                          validation_data=(test_set, test_set),\n",
    "                          verbose=1,\n",
    "                          callbacks=[early_stopping]).history"
   ],
   "metadata": {
    "collapsed": false,
    "ExecuteTime": {
     "end_time": "2024-01-01T15:17:03.978876800Z",
     "start_time": "2024-01-01T15:16:27.529080300Z"
    }
   },
   "id": "415700d7482f8572"
  },
  {
   "cell_type": "code",
   "execution_count": 135,
   "outputs": [
    {
     "data": {
      "text/plain": "<Figure size 640x480 with 1 Axes>",
      "image/png": "[encoded data removed]"
     },
     "metadata": {},
     "output_type": "display_data"
    }
   ],
   "source": [
    "import matplotlib.pyplot as plt\n",
    "plt.plot(history['loss'])\n",
    "plt.plot(history['val_loss'])\n",
    "plt.title('model loss')\n",
    "plt.ylabel('loss')\n",
    "plt.xlabel('epoch')\n",
    "plt.legend(['train', 'test'])\n",
    "plt.show()"
   ],
   "metadata": {
    "collapsed": false,
    "ExecuteTime": {
     "end_time": "2024-01-01T15:17:10.848319900Z",
     "start_time": "2024-01-01T15:17:10.681610Z"
    }
   },
   "id": "653da2086878a964"
  },
  {
   "cell_type": "code",
   "execution_count": 134,
   "outputs": [],
   "source": [],
   "metadata": {
    "collapsed": false,
    "ExecuteTime": {
     "end_time": "2024-01-01T15:17:04.164825800Z",
     "start_time": "2024-01-01T15:17:04.099481700Z"
    }
   },
   "id": "37837871e34506f8"
  }
 ],
 "metadata": {
  "kernelspec": {
   "name": "python3",
   "language": "python",
   "display_name": "Python 3 (ipykernel)"
  },
  "language_info": {
   "codemirror_mode": {
    "name": "ipython",
    "version": 2
   },
   "file_extension": ".py",
   "mimetype": "text/x-python",
   "name": "python",
   "nbconvert_exporter": "python",
   "pygments_lexer": "ipython2",
   "version": "2.7.6"
  }
 },
 "nbformat": 4,
 "nbformat_minor": 5
}
